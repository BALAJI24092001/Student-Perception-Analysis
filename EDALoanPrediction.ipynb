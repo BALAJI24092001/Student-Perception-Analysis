{
 "cells": [
  {
   "cell_type": "code",
   "execution_count": null,
   "id": "3dc9484e",
   "metadata": {},
   "outputs": [],
   "source": [
    "import pandas as pd\n",
    "import seaborn as sns\n",
    "import matplotlib.pyplot as plt\n",
    "%matplotlib inline"
   ]
  },
  {
   "cell_type": "code",
   "execution_count": null,
   "id": "97dbf3ed",
   "metadata": {},
   "outputs": [],
   "source": [
    "train = pd.read_csv('train.csv')\n",
    "train.head(10)"
   ]
  },
  {
   "cell_type": "code",
   "execution_count": null,
   "id": "7c835e74",
   "metadata": {},
   "outputs": [],
   "source": [
    "train.dtypes"
   ]
  },
  {
   "cell_type": "code",
   "execution_count": null,
   "id": "c49dbd93",
   "metadata": {},
   "outputs": [],
   "source": [
    "Gender=pd.crosstab(train['Gender'],train['Loan_Status'])\n",
    "palette = {'N':'C1', 'Y':'C0'}\n",
    "Gender.div(Gender.sum(1).astype(float), axis=0).plot(kind='bar',stacked=True,figsize=(10,10), color={'N':'#FF9B0B', 'Y':'#1F6993'})\n",
    "plt.title('Gender vs Loan Status')\n",
    "plt.legend(['No', 'Yes'], loc=\"center\",title='Loan Status')\n",
    "plt.xticks(rotation=0)\n",
    "plt.show()\n",
    "# sns.barplot(x=Gender.Gender, y=Gender.values)\n",
    "# sns.histplot(data=train, x=\"Gender\", hue=\"Loan_Status\", stacked=True)"
   ]
  },
  {
   "cell_type": "code",
   "execution_count": null,
   "id": "d544204d",
   "metadata": {},
   "outputs": [],
   "source": [
    "Married=pd.crosstab(train['Married'], train['Loan_Status'])\n",
    "Married.div(Married.sum(1).astype(float), axis=0).plot(kind='bar',stacked=True,figsize=(10, 10), color={'N':'#FF9B0B', 'Y':'#1F6993'});\n",
    "plt.title('Marital Status vs Loan Status')\n",
    "plt.legend(['No', 'Yes'], loc=\"center\",title='Loan Status')\n",
    "plt.xticks(rotation=0)\n",
    "plt.show()"
   ]
  },
  {
   "cell_type": "code",
   "execution_count": null,
   "id": "746d0924",
   "metadata": {},
   "outputs": [],
   "source": [
    "Dependents=pd.crosstab(train['Dependents'],train['Loan_Status'])\n",
    "Dependents.div(Dependents.sum(1).astype(float), axis=0).plot(kind='bar',stacked=True,figsize=(10,10), color={'N':'#FF9B0B', 'Y':'#1F6993'})\n",
    "plt.title('Dependents vs Loan Status')\n",
    "plt.legend(['No', 'Yes'], loc=\"center\",title='Loan Status')\n",
    "plt.xticks(rotation=0)\n",
    "plt.show()"
   ]
  },
  {
   "cell_type": "code",
   "execution_count": null,
   "id": "a6eed609",
   "metadata": {},
   "outputs": [],
   "source": [
    "Education=pd.crosstab(train['Education'],train['Loan_Status']);\n",
    "Education.div(Education.sum(1).astype(float), axis=0).plot(kind='bar',stacked=True,figsize=(10,10), color={'N':'#FF9B0B', 'Y':'#1F6993'})\n",
    "plt.title('Education vs Loan Status')\n",
    "plt.legend(['No', 'Yes'], loc=\"center\",title='Loan Status')\n",
    "plt.xticks(rotation=0)\n",
    "plt.show()"
   ]
  },
  {
   "cell_type": "code",
   "execution_count": null,
   "id": "ecb8a42f",
   "metadata": {},
   "outputs": [],
   "source": [
    "Self_Employed=pd.crosstab(train['Self_Employed'],train['Loan_Status'])\n",
    "Self_Employed.div(Self_Employed.sum(1).astype(float), axis=0).plot(kind='bar',stacked=True,figsize=(10, 10), color={'N':'#FF9B0B', 'Y':'#1F6993'});\n",
    "plt.title('Self Employment vs Loan Status')\n",
    "plt.legend(['No', 'Yes'], loc=\"center\",title='Loan Status')\n",
    "plt.xticks(rotation=0)\n",
    "plt.show()"
   ]
  },
  {
   "cell_type": "code",
   "execution_count": null,
   "id": "4b0dfbff",
   "metadata": {},
   "outputs": [],
   "source": [
    "Credit_History=pd.crosstab(train['Credit_History'],train['Loan_Status'])\n",
    "Credit_History.div(Credit_History.sum(1).astype(float), axis=0).plot(kind='bar',stacked=True,figsize=(10, 10), color={'N':'#FF9B0B', 'Y':'#1F6993'});\n",
    "plt.title('Credit History vs Loan Status')\n",
    "plt.legend(['No', 'Yes'], loc=\"center\",title='Loan Status')\n",
    "plt.xticks(rotation=0)\n",
    "plt.show()"
   ]
  },
  {
   "cell_type": "code",
   "execution_count": null,
   "id": "c2a324d5",
   "metadata": {},
   "outputs": [],
   "source": [
    "Property_Area=pd.crosstab(train['Property_Area'],train['Loan_Status'])\n",
    "Property_Area.div(Property_Area.sum(1).astype(float), axis=0).plot(kind='bar',stacked=True,figsize=(10,10), color={'N':'#FF9B0B', 'Y':'#1F6993'})\n",
    "plt.title('Property Area vs Loan Status')\n",
    "plt.legend(['No', 'Yes'], loc=\"upper right\",title='Loan Status')\n",
    "plt.xticks(rotation=0)\n",
    "plt.show()"
   ]
  },
  {
   "cell_type": "code",
   "execution_count": null,
   "id": "7b347992",
   "metadata": {},
   "outputs": [],
   "source": [
    "bins=[0,2500,4000,6000,81000]\n",
    "group=['Low','Average','High','Very high']\n",
    "train['Income_bin']=pd.cut(train['ApplicantIncome'],bins,labels=group)\n",
    "Income_bin=pd.crosstab(train['Income_bin'],train['Loan_Status'])\n",
    "Income_bin.div(Income_bin.sum(1).astype(float), axis=0).plot(kind='bar',stacked=True, figsize=(10,10), color={'N':'#FF9B0B', 'Y':'#1F6993'})\n",
    "plt.xlabel('ApplicantIncome')\n",
    "plt.title('Applicant income vs Loan Status')\n",
    "plt.legend(['No', 'Yes'], loc=\"center\",title='Loan Status')\n",
    "plt.xticks(rotation=0)\n",
    "plt.show()"
   ]
  },
  {
   "cell_type": "code",
   "execution_count": null,
   "id": "60da0a48",
   "metadata": {},
   "outputs": [],
   "source": [
    "bins=[0,1000,3000,42000]\n",
    "group=['Low','Average','High']\n",
    "train['Coapplicant_Income_bin']=pd.cut(train['CoapplicantIncome'],bins,labels=group)\n",
    "Coapplicant_Income_bin=pd.crosstab(train['Coapplicant_Income_bin'],train['Loan_Status'])\n",
    "Coapplicant_Income_bin.div(Coapplicant_Income_bin.sum(1).astype(float), axis=0).plot(kind='bar',stacked=True, figsize=(10,10), color={'N':'#FF9B0B', 'Y':'#1F6993'})\n",
    "plt.xlabel('CoapplicantIncome')\n",
    "plt.title('Coapplicant Income vs Loan Status')\n",
    "plt.legend(['No', 'Yes'], loc=\"upper right\",title='Loan Status')\n",
    "plt.xticks(rotation=0)\n",
    "plt.show()"
   ]
  },
  {
   "cell_type": "code",
   "execution_count": null,
   "id": "33c9bf53",
   "metadata": {},
   "outputs": [],
   "source": [
    "train['Total_Income']=train['ApplicantIncome']+train['CoapplicantIncome']\n",
    "bins=[0,2500,4000,6000,81000]\n",
    "group=['Low','Average','High','Very high']\n",
    "train['Total_Income_bin']=pd.cut(train['Total_Income'],bins,labels=group)\n",
    "Total_Income_bin=pd.crosstab(train['Total_Income_bin'],train['Loan_Status'])\n",
    "Total_Income_bin.div(Total_Income_bin.sum(1).astype(float), axis=0).plot(kind='bar',stacked=True, figsize=(10, 10), color={'N':'#FF9B0B', 'Y':'#1F6993'})\n",
    "plt.xlabel('Total_Income')\n",
    "plt.title('Total Income vs Loan Status')\n",
    "plt.legend(['No', 'Yes'], loc=\"center\",title='Loan Status')\n",
    "plt.xticks(rotation=0)\n",
    "plt.show()"
   ]
  },
  {
   "cell_type": "code",
   "execution_count": null,
   "id": "77dc7447",
   "metadata": {},
   "outputs": [],
   "source": [
    "bins=[0,100,200,700]\n",
    "group=['Low','Average','High']\n",
    "train['LoanAmount_bin']=pd.cut(train['LoanAmount'],bins,labels=group)\n",
    "LoanAmount_bin=pd.crosstab(train['LoanAmount_bin'],train['Loan_Status'])\n",
    "LoanAmount_bin.div(LoanAmount_bin.sum(1).astype(float), axis=0).plot(kind='bar',stacked=True, figsize=(10,10), color={'N':'#FF9B0B', 'Y':'#1F6993'})\n",
    "plt.xlabel('LoanAmount')\n",
    "plt.title('Loan Amount vs Loan Status')\n",
    "plt.legend(['No', 'Yes'], loc=\"upper right\",title='Loan Status')\n",
    "plt.xticks(rotation=0)\n",
    "plt.show()"
   ]
  },
  {
   "cell_type": "code",
   "execution_count": null,
   "id": "d2c256a0",
   "metadata": {},
   "outputs": [],
   "source": [
    "plt.figure(figsize=(10,10))\n",
    "sns.heatmap(vmax=1, square=True, cmap='Blues',annot=True,data=train.corr())"
   ]
  },
  {
   "cell_type": "code",
   "execution_count": null,
   "id": "8e44b38a",
   "metadata": {},
   "outputs": [],
   "source": []
  }
 ],
 "metadata": {
  "interpreter": {
   "hash": "31f2aee4e71d21fbe5cf8b01ff0e069b9275f58929596ceb00d14d90e3e16cd6"
  },
  "kernelspec": {
   "display_name": "Python 3",
   "language": "python",
   "name": "python3"
  },
  "language_info": {
   "codemirror_mode": {
    "name": "ipython",
    "version": 3
   },
   "file_extension": ".py",
   "mimetype": "text/x-python",
   "name": "python",
   "nbconvert_exporter": "python",
   "pygments_lexer": "ipython3",
   "version": "3.6.9"
  }
 },
 "nbformat": 4,
 "nbformat_minor": 5
}
