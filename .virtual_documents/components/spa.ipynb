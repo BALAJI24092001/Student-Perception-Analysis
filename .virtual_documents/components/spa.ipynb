





import numpy as np
import pandas as pd
from pandas.plotting import table
import matplotlib.pyplot as plt
import matplotlib.colors as pltcol
import matplotlib.ticker as ticker
import seaborn as sns
import plotly.express as px
%matplotlib inline
import math
import statsmodels.api as sm
from statsmodels.formula.api import ols
import statsmodels.tools.eval_measures as ev
from sklearn.linear_model import LinearRegression
from sklearn.model_selection import train_test_split
from patsy import dmatrices
from statsmodels.stats.outliers_influence import variance_inflation_factor
# importing r2_score module
from sklearn.metrics import mean_absolute_error, make_scorer
from sklearn.metrics import r2_score
from sklearn.metrics import mean_squared_error
# predicting the accuracy score
from sklearn.model_selection import cross_val_score
from sklearn.preprocessing import StandardScaler,MinMaxScaler

import scipy.stats as stats





data = pd.read_csv('spa.csv')


len(data)


data.describe()
# comparing median, max and min, there may be outliers in Age, tdu, doc and marks


data.info()
# Data is processed through feature engineering techniques using bivariable analysis


print(data["Name of the University/College you are studying:"].value_counts())


data = data[data["Name of the University/College you are studying:"] == "PONDICHERRY UNIVERSITY"]


data.describe()
# comparing median, max and min, there may be outliers in Age, tdu, doc and marks








plt.boxplot()


from plotly.subplots import make_subplots
import plotly.graph_objects as go
fig = make_subplots(vertical_spacing=0.04, 
    rows=2, cols=4,
    specs=[[{}, {}, {}, {"rowspan":2}],
           [{}, {}, {}, None]],
    subplot_titles=("Age", "Duration of online classes", "Average data usage per day", "Data usage on online classes", "Hours of study per day", "Prefered time duration of online classes", "Score in exam"))
fig.update_annotations(font_size=11)

fig.add_trace( go.Box( y = data["What is your age?"], name = "", boxmean=True, boxpoints='all', notched=True),
                 row=1, col=1)
fig.add_trace( go.Box( y = data["How many hours do you spend studying per day?"], name = "", boxmean=True, boxpoints='all', notched=True),
                 row=2, col=1)
fig.add_trace( go.Box( y = data["What is overall duration of online classes per day? (provided by your college) (in Hours)"], name = "", boxmean=True, boxpoints='all', notched=True),
                 row=1, col=2)
fig.add_trace( go.Box( y = data["What is your preferred time duration of online classes per day? (in Hours)"], name = "", boxmean=True, boxpoints='all', notched=True),
                 row=2, col=2)
fig.add_trace( go.Box( y = data["How much data do you use on an average per day?  (in GB)"], name = "", boxmean=True, boxpoints='all', notched=True),
                 row=1, col=3)
fig.add_trace( go.Box( y = data["How much did you score in your exams? (in percentage)"], name = "", boxmean=True, boxpoints='all', notched=True),
                 row=2, col=3)
fig.add_trace( go.Box( y = data["How much data do you use for Online classes per day? (in GB)"], name = "", boxmean=True, boxpoints='all', notched=True),
                 row=1, col=4)

fig.update_layout(showlegend=False, title_text="BOX PLOT FOR DETECTING OUTLIERS", width=1300, height=900)
fig.show()


from plotly.subplots import make_subplots
import plotly.graph_objects as go
fig = make_subplots(vertical_spacing=0.065, 
    rows=2, cols=4,
    specs=[[{}, {}, {}, {"rowspan":2}],
           [{}, {}, {}, None]],
    subplot_titles=("Age","Hours of study per day", "Duration of online classes", "Prefered time duration of online classes",
                    "Average data usage per day", "Score in exam", "Data usage on online classes"))
fig.update_annotations(font_size=11)

fig.add_trace( go.Histogram( x = data["What is your age?"], name = ""),
                 row=1, col=1)
fig.add_trace( go.Histogram( x = data["How many hours do you spend studying per day?"], name = ""),
                 row=2, col=1)
fig.add_trace( go.Histogram( x = data["What is overall duration of online classes per day? (provided by your college) (in Hours)"], name = ""),
                 row=1, col=2)
fig.add_trace( go.Histogram( x = data["What is your preferred time duration of online classes per day? (in Hours)"], name = ""),
                 row=2, col=2)
fig.add_trace( go.Histogram( x = data["How much data do you use on an average per day?  (in GB)"], name = ""),
                 row=1, col=3)
fig.add_trace( go.Histogram( x = data["How much did you score in your exams? (in percentage)"], name = ""),
                 row=2, col=3)
fig.add_trace( go.Histogram( y = data["How much data do you use for Online classes per day? (in GB)"], name = ""),
                 row=1, col=4)

fig.update_layout(showlegend=False, title_text="DISTRIBUTION PLOT", width=1300, height=900)
fig.show()


pd.DataFrame(data["What is your age?"].value_counts())


lst = list()
for i in data["How many hours do you spend studying per day?"]:
    if i <= 1:
        lst.append("1. < 1")
    elif i <= 2:
        lst.append("2. < 2")
    elif i <= 5:
        lst.append("3. < 5")
    else:
        lst.append("4. > 5")
pd.DataFrame(pd.Series(lst).value_counts())
data["Studying hours"] = lst


data["Hour of study"] = lst


lst = list()
for i in data["What is overall duration of online classes per day? (provided by your college) (in Hours)"]:
    if i <= 1:
        lst.append("1. < 1")
    elif i <= 2:
        lst.append("2. < 2")
    elif i <= 5:
        lst.append("3. < 5")
    else:
        lst.append("4. > 5")
pd.DataFrame(pd.Series(lst).value_counts())


data["Online class duration"] = lst


lst = list()
for i in data["What is your preferred time duration of online classes per day? (in Hours)"]:
    if i <= 1:
        lst.append("1. < 1")
    elif i <= 2:
        lst.append("2. < 2")
    elif i <= 5:
        lst.append("3. < 5")
    else:
        lst.append("4. > 5")
pd.DataFrame(pd.Series(lst).value_counts())


data["Prefered online class duration"] = lst


lst = list()
for i in data["How much data do you use on an average per day?  (in GB)"]:
    if i <= 1:
        lst.append("1. < 1")
    elif i <= 2:
        lst.append("2. < 2")
    elif i <= 5:
        lst.append("3. < 5")
    else:
        lst.append("4. > 5")
pd.DataFrame(pd.Series(lst).value_counts())


data["Average data usage"] = lst


lst = list()
for i in data["How much data do you use for Online classes per day? (in GB)"]:
    if i <= 1:
        lst.append("1. < 1")
    elif i <= 2:
        lst.append("2. < 2")
    elif i <= 5:
        lst.append("3. < 5")
    else:
        lst.append("4. > 5")
pd.DataFrame(pd.Series(lst).value_counts())


data["Data usage for online classes"] = lst


lst = list()
for i in data["How much did you score in your exams? (in percentage)"]:
    if i <= 80:
        lst.append("<= 80")
    elif i <= 85:
        lst.append("<= 85")
    elif i <= 90:
        lst.append("<= 90")
    elif i <= 95:
        lst.append("<= 95")
    else:
        lst.append("<= 100")
pd.DataFrame(pd.Series(lst).value_counts())


data["Exam marks"] = lst





data.describe()


age_iqr = 23 - 20
l_age_iqr = 20 - 1.5 * age_iqr
r_age_iqr = 23 + 1.5 * age_iqr


class_iqr = 5 - 4
l_class_iqr = 4 - 1.5 * class_iqr
r_class_iqr = 5 + 1.5 * class_iqr


avg_data_iqr = 2 - 1.37
l_avg_data_iqr = 1.37 - 1.5 * avg_data_iqr
r_avg_data_iqr = 2 + 1.5 * avg_data_iqr


on_class_iqr = 1.5 - 1
l_on_class_iqr = 1 - 1.5 * on_class_iqr
r_on_class_iqr = 1.5 + 1.5 * on_class_iqr


# REPLACING OUTLIERS WITH MISSING VALUES


data.loc[data["What is your age?"] >= r_age_iqr, "What is your age?"] = np.nan


data.loc[data["What is overall duration of online classes per day? (provided by your college) (in Hours)"] >= r_class_iqr, "What is overall duration of online classes per day? (provided by your college) (in Hours)"] = r_class_iqr
data.loc[data["What is overall duration of online classes per day? (provided by your college) (in Hours)"] <= l_class_iqr, "What is overall duration of online classes per day? (provided by your college) (in Hours)"] = l_class_iqr


data.loc[data["How much data do you use on an average per day?  (in GB)"] >= r_avg_data_iqr, "How much data do you use on an average per day?  (in GB)"] = np.nan


data.loc[data["How much data do you use for Online classes per day? (in GB)"] >= r_on_class_iqr, "How much data do you use for Online classes per day? (in GB)"] = np.nan
data.loc[data["How much data do you use for Online classes per day? (in GB)"] <= l_on_class_iqr, "How much data do you use for Online classes per day? (in GB)"] = np.nan


# REPLACING MISSING VALUES WITH MODE VALUE


data.loc[data["What is your age?"] == np.nan, "What is your age?"] = data["What is your age?"].mean()


data.loc[data["How much data do you use on an average per day?  (in GB)"] == np.nan, "How much data do you use on an average per day?  (in GB)"] = data["How much data do you use on an average per day?  (in GB)"].mean()


data.loc[data["How much data do you use for Online classes per day? (in GB)"] == np.nan, "How much data do you use for Online classes per day? (in GB)"] = data["How much data do you use for Online classes per day? (in GB)"].mean()


from plotly.subplots import make_subplots
import plotly.graph_objects as go
fig = make_subplots(vertical_spacing=0.04, 
    rows=2, cols=4,
    specs=[[{}, {}, {}, {"rowspan":2}],
           [{}, {}, {}, None]],
    subplot_titles=("Age", "Duration of online classes", "Average data usage per day", "Data usage on online classes", "Hours of study per day", "Prefered time duration of online classes", "Score in exam"))
fig.update_annotations(font_size=11)

fig.add_trace( go.Box( y = data["What is your age?"], name = "", boxmean=True, boxpoints='all', notched=True),
                 row=1, col=1)
fig.add_trace( go.Box( y = data["How many hours do you spend studying per day?"], name = "", boxmean=True, boxpoints='all', notched=True),
                 row=2, col=1)
fig.add_trace( go.Box( y = data["What is overall duration of online classes per day? (provided by your college) (in Hours)"], name = "", boxmean=True, boxpoints='all', notched=True),
                 row=1, col=2)
fig.add_trace( go.Box( y = data["What is your preferred time duration of online classes per day? (in Hours)"], name = "", boxmean=True, boxpoints='all', notched=True),
                 row=2, col=2)
fig.add_trace( go.Box( y = data["How much data do you use on an average per day?  (in GB)"], name = "", boxmean=True, boxpoints='all', notched=True),
                 row=1, col=3)
fig.add_trace( go.Box( y = data["How much did you score in your exams? (in percentage)"], name = "", boxmean=True, boxpoints='all', notched=True),
                 row=2, col=3)
fig.add_trace( go.Box( y = data["How much data do you use for Online classes per day? (in GB)"], name = "", boxmean=True, boxpoints='all', notched=True),
                 row=1, col=4)

fig.update_layout(showlegend=False, title_text="BOX PLOT FOR DETECTING OUTLIERS", width=1300, height=900)
fig.show()
fig.write_html("testing.html", full_html=False, include_plotlyjs='cdn')


from plotly.subplots import make_subplots
import plotly.graph_objects as go
fig = make_subplots(vertical_spacing=0.065, 
    rows=2, cols=4,
    specs=[[{}, {}, {}, {"rowspan":2}],
           [{}, {}, {}, None]],
    subplot_titles=("Age","Hours of study per day", "Duration of online classes", "Prefered time duration of online classes",
                    "Average data usage per day", "Score in exam", "Data usage on online classes"))
fig.update_annotations(font_size=11)

fig.add_trace( go.Histogram( x = data["What is your age?"], name = ""),
                 row=1, col=1)
fig.add_trace( go.Histogram( x = data["How many hours do you spend studying per day?"], name = ""),
                 row=2, col=1)
fig.add_trace( go.Histogram( x = data["What is overall duration of online classes per day? (provided by your college) (in Hours)"], name = ""),
                 row=1, col=2)
fig.add_trace( go.Histogram( x = data["What is your preferred time duration of online classes per day? (in Hours)"], name = ""),
                 row=2, col=2)
fig.add_trace( go.Histogram( x = data["How much data do you use on an average per day?  (in GB)"], name = ""),
                 row=1, col=3)
fig.add_trace( go.Histogram( x = data["How much did you score in your exams? (in percentage)"], name = ""),
                 row=2, col=3)
fig.add_trace( go.Histogram( y = data["How much data do you use for Online classes per day? (in GB)"], name = ""),
                 row=1, col=4)

fig.update_layout(showlegend=False, title_text="DISTRIBUTION PLOT", width=1300, height=900)
fig.show()
fig.write_html("testing.html")





cor = data.select_dtypes(include=np.number).corr()
cor.rename(index = {"What is your age?": "Age", "How many hours do you spend studying per day?": "Study Hours", 
            "What is overall duration of online classes per day? (provided by your college) (in Hours)": "Online classes", 
           "What is your preferred time duration of online classes per day? (in Hours)": "Prefered Time",
            "How much data do you use on an average per day?  (in GB)": "Avg data usage",
            "How much data do you use for Online classes per day? (in GB)": "Online class data",
            "How much did you score in your exams? (in percentage)": "Marks"
           }, 
           columns={"What is your age?": "Age", "How many hours do you spend studying per day?": "Study Hours", 
            "What is overall duration of online classes per day? (provided by your college) (in Hours)": "Online classes", 
           "What is your preferred time duration of online classes per day? (in Hours)": "Prefered Time",
            "How much data do you use on an average per day?  (in GB)": "Avg data usage",
            "How much data do you use for Online classes per day? (in GB)": "Online class data",
            "How much did you score in your exams? (in percentage)": "Marks"
           },
           inplace = True)
plt.figure(figsize=(15, 10))
sns.heatmap(data = cor, annot=True, cmap="BuPu");





lst = list()
for i in data["Perception on Online Classes [Access study resources effectively.]"]:
    if i == '1 Strongly Disagree':
        lst.append(1)
    elif i == '2 Disagree':
        lst.append(2)
    elif i == '3 Neutral':
        lst.append(3)
    elif i == '4 Agree':
        lst.append(4)
    else:
        lst.append(5)
data["Perception on Online Classes [Access study resources effectively.]"] = lst


lst = list()
for i in data["Perception on Online Classes [Better in understanding the concept .]"]:
    if i == '1 Strongly Disagree':
        lst.append(1)
    elif i == '2 Disagree':
        lst.append(2)
    elif i == '3 Neutral':
        lst.append(3)
    elif i == '4 Agree':
        lst.append(4)
    else:
        lst.append(5)
data["Perception on Online Classes [Better in understanding the concept .]"] = lst


lst = list()
for i in data["Perception on Online Classes [Better platform for lab/practical classes.]"]:
    if i == '1 Strongly Disagree':
        lst.append(1)
    elif i == '2 Disagree':
        lst.append(2)
    elif i == '3 Neutral':
        lst.append(3)
    elif i == '4 Agree':
        lst.append(4)
    else:
        lst.append(5)
data["Perception on Online Classes [Better platform for lab/practical classes.]"] = lst


lst = list()
for i in data["Perception on Online Classes [Better than offline classes.]"]:
    if i == '1 Strongly Disagree':
        lst.append(1)
    elif i == '2 Disagree':
        lst.append(2)
    elif i == '3 Neutral':
        lst.append(3)
    elif i == '4 Agree':
        lst.append(4)
    else:
        lst.append(5)
data["Perception on Online Classes [Better than offline classes.]"] = lst


lst = list()
for i in data["Perception on Online Classes [Ease and quick share of educational material.]"]:
    if i == '1 Strongly Disagree':
        lst.append(1)
    elif i == '2 Disagree':
        lst.append(2)
    elif i == '3 Neutral':
        lst.append(3)
    elif i == '4 Agree':
        lst.append(4)
    else:
        lst.append(5)
data["Perception on Online Classes [Ease and quick share of educational material.]"] = lst


lst = list()
for i in data["Perception on Online Classes [Helped improving computer skills.]"]:
    if i == '1 Strongly Disagree':
        lst.append(1)
    elif i == '2 Disagree':
        lst.append(2)
    elif i == '3 Neutral':
        lst.append(3)
    elif i == '4 Agree':
        lst.append(4)
    else:
        lst.append(5)
data["Perception on Online Classes [Helped improving computer skills.]"] = lst


lst = list()
for i in data["Perception on Online Classes [Improved collaboration and interactivity among students.]"]:
    if i == '1 Strongly Disagree':
        lst.append(1)
    elif i == '2 Disagree':
        lst.append(2)
    elif i == '3 Neutral':
        lst.append(3)
    elif i == '4 Agree':
        lst.append(4)
    else:
        lst.append(5)
data["Perception on Online Classes [Improved collaboration and interactivity among students.]"] = lst


lst = list()
for i in data["Perception on Online Classes [Quick feedback.]"]:
    if i == '1 Strongly Disagree':
        lst.append(1)
    elif i == '2 Disagree':
        lst.append(2)
    elif i == '3 Neutral':
        lst.append(3)
    elif i == '4 Agree':
        lst.append(4)
    else:
        lst.append(5)
data["Perception on Online Classes [Quick feedback.]"] = lst


data["Perception Total"] = data["Perception on Online Classes [Access study resources effectively.]"] + data["Perception on Online Classes [Better in understanding the concept .]"] + data["Perception on Online Classes [Better than offline classes.]"] + data["Perception on Online Classes [Improved collaboration and interactivity among students.]"]





data["Interest of participation in Online Classes [How much do you use social media(including YouTube)]"].value_counts()


data["Interest of participation in Online Classes [Cheat in exams]"].value_counts()


data["Interest of participation in Online Classes [Get bored in class.]"].value_counts()


lst = list()
for i in data["Interest of participation in Online Classes [Cheat in exams]"]:
    if i == "Always":
        lst.append(5)
    elif i == "Often":
        lst.append(4)
    elif i == "Sometimes":
        lst.append(3)
    elif i == "Seldom":
        lst.append(2)
    elif i == "Never":
        lst.append(1)
data["Interest of participation in Online Classes [Cheat in exams]"] = lst


lst = list()
for i in data["Interest of participation in Online Classes [Get bored in class.]"]:
    if i == "Always":
        lst.append(5)
    elif i == "Often":
        lst.append(4)
    elif i == "Sometimes":
        lst.append(3)
    elif i == "Seldom":
        lst.append(2)
    elif i == "Never":
        lst.append(1)
data["Interest of participation in Online Classes [Get bored in class.]"] = lst


lst = list()
for i in data["Interest of participation in Online Classes [How much do you use social media(including YouTube)]"]:
    if i == "Always":
        lst.append(5)
    elif i == "Often":
        lst.append(4)
    elif i == "Sometimes":
        lst.append(3)
    elif i == "Seldom":
        lst.append(2)
    elif i == "Never":
        lst.append(1)
data["Interest of participation in Online Classes [How much do you use social media(including YouTube)]"] = lst


data["Interest Total"] = data["Interest of participation in Online Classes [Cheat in exams]"] + data["Interest of participation in Online Classes [Get bored in class.]"] + data["Interest of participation in Online Classes [How much do you use social media(including YouTube)]"]











data["What gender do you identify as?"].unique()


male = data[data["What gender do you identify as?"] == "Male"]["How much did you score in your exams? (in percentage)"]
female = data[data["What gender do you identify as?"]== "Female"]["How much did you score in your exams? (in percentage)"]
male = male.dropna()
female = female.dropna()
stats.shapiro(male), stats.shapiro(female) ,stats.mannwhitneyu(male, female)  # normality failed


stats.ttest_ind(male, female) # checking the difference in p-value


# There is a difference in average marks scored by male and female
# Reject H0


male.plot(kind="hist", alpha=0.7), female.plot(kind="hist", alpha=0.7);





data["Highest educational qualification (or now pursuing)"].unique()


data["Highest educational qualification (or now pursuing)"].value_counts()
# Not considering Ph.D students for comparision(Less sample size)


ug = data[data["Highest educational qualification (or now pursuing)"] == "Undergraduate (or diploma)"]["How much did you score in your exams? (in percentage)"]
pg = data[data["Highest educational qualification (or now pursuing)"] == "Post-graduation"]["How much did you score in your exams? (in percentage)"]
ug = ug.dropna()
pg = pg.dropna()
stats.shapiro(ug), stats.shapiro(pg), stats.mannwhitneyu(ug, pg)


stats.ttest_ind(ug, pg)





data["Which device do you use for online classes.   (multiple options available)"].unique()


data["Which device do you use for online classes.   (multiple options available)"].value_counts()


sp = data[data["Which device do you use for online classes.   (multiple options available)"] == "Smartphone"]["How much did you score in your exams? (in percentage)"]
splp = data[data["Which device do you use for online classes.   (multiple options available)"] == "Smartphone;Laptop"]["How much did you score in your exams? (in percentage)"]
sp   =   sp.dropna()
splp = splp.dropna()
stats.shapiro(sp), stats.shapiro(splp), stats.mannwhitneyu(sp, splp)


stats.ttest_ind(sp, splp)


sp.mean(), sp.std(), splp.mean(), splp.std()


sp.plot(kind='hist', alpha=0.7), splp.plot(kind="hist", alpha=0.7);





data["Have you achieved your expected academic outcome?"].value_counts()


yes = data[data["Have you achieved your expected academic outcome?"] == "Yes"]["How much did you score in your exams? (in percentage)"]
no  = data[data["Have you achieved your expected academic outcome?"] == "No" ]["How much did you score in your exams? (in percentage)"]
yes = yes.dropna()
no = no.dropna()
stats.shapiro(yes), stats.shapiro(no), stats.mannwhitneyu(yes, no)


yes.mean(), yes.std(), no.mean(), no.std()


yes.plot(kind="hist", alpha=0.7), no.plot(kind='hist', alpha=0.7);








male = data[data["What gender do you identify as?"] == "Male"   ]["How many hours do you spend studying per day?"]
female = data[data["What gender do you identify as?"]== "Female"]["How many hours do you spend studying per day?"]
male = male.dropna()
female = female.dropna()
stats.shapiro(male), stats.shapiro(female), stats.mannwhitneyu(male, female)


male.plot(kind="hist", alpha=0.7), female.plot(kind="hist", alpha=0.7);





ug = data[data["Highest educational qualification (or now pursuing)"] == "Undergraduate (or diploma)"]["How many hours do you spend studying per day?"]
pg = data[data["Highest educational qualification (or now pursuing)"] == "Post-graduation"           ]["How many hours do you spend studying per day?"]
ug = ug.dropna()
pg = pg.dropna()
stats.shapiro(ug), stats.shapiro(pg), stats.mannwhitneyu(ug, pg)


ug.plot(kind='hist', alpha = 0.7), pg.plot(kind='hist', alpha = 0.7);





sp   = data[data["Which device do you use for online classes.   (multiple options available)"] == "Smartphone"       ]["How many hours do you spend studying per day?"]
splp = data[data["Which device do you use for online classes.   (multiple options available)"] == "Smartphone;Laptop"]["How many hours do you spend studying per day?"]
sp   =   sp.dropna()
splp = splp.dropna()
stats.shapiro(sp), stats.shapiro(splp), stats.mannwhitneyu(sp, splp)


sp.mean(), sp.std(), splp.mean(), splp.std()


# There is a difference in Hours of study with students who uses smart phone and both smart phone and laptop.
# Reject H0


sp.plot(kind='hist', alpha=0.7), splp.plot(kind="hist", alpha=0.7);





yes = data[data["Have you achieved your expected academic outcome?"] == "Yes"]["How many hours do you spend studying per day?"]
no  = data[data["Have you achieved your expected academic outcome?"] == "No" ]["How many hours do you spend studying per day?"]
yes = yes.dropna()
no = no.dropna()
stats.shapiro(yes), stats.shapiro(no), stats.mannwhitneyu(yes, no)


yes.plot(kind="hist", alpha=0.7), no.plot(kind='hist', alpha=0.7);








male = data[data["What gender do you identify as?"] == "Male"   ]["What is your preferred time duration of online classes per day? (in Hours)"]
female = data[data["What gender do you identify as?"]== "Female"]["What is your preferred time duration of online classes per day? (in Hours)"]
male = male.dropna()
female = female.dropna()
stats.shapiro(male), stats.shapiro(female) ,stats.mannwhitneyu(male, female)  # normality failed


# There is difference in mean preffered time duration of online classes in male and female


male.plot(kind='hist', alpha=0.7), female.plot(kind='hist', alpha=0.7);





ug = data[data["Highest educational qualification (or now pursuing)"] == "Undergraduate (or diploma)"]["What is your preferred time duration of online classes per day? (in Hours)"]
pg = data[data["Highest educational qualification (or now pursuing)"] == "Post-graduation"           ]["What is your preferred time duration of online classes per day? (in Hours)"]
ug = ug.dropna()
pg = pg.dropna()
stats.shapiro(ug), stats.shapiro(pg), stats.mannwhitneyu(ug, pg)


ug.plot(kind='hist', alpha=0.7), pg.plot(kind='hist', alpha=0.7);





sp   = data[data["Which device do you use for online classes.   (multiple options available)"] == "Smartphone"       ]["What is your preferred time duration of online classes per day? (in Hours)"]
splp = data[data["Which device do you use for online classes.   (multiple options available)"] == "Smartphone;Laptop"]["What is your preferred time duration of online classes per day? (in Hours)"]
sp   =   sp.dropna()
splp = splp.dropna()
stats.shapiro(sp), stats.shapiro(splp), stats.mannwhitneyu(sp, splp)





datacomp = data[["How much data do you use for Online classes per day? (in GB)", "How much data do you use on an average per day?  (in GB)"]]
datacomp = datacomp.dropna(ignore_index="True")
stats.shapiro(datacomp["How much data do you use for Online classes per day? (in GB)"]), stats.shapiro(datacomp["How much data do you use on an average per day?  (in GB)"])


stats.kruskal(datacomp["How much data do you use for Online classes per day? (in GB)"], datacomp["How much data do you use on an average per day?  (in GB)"])


# There is differnce in average data usage and data usage for online classes
# Reject H0


datacomp["How much data do you use for Online classes per day? (in GB)"].plot(kind='hist'), datacomp["How much data do you use on an average per day?  (in GB)"].plot(kind='hist', alpha=0.7);








male = data[data["What gender do you identify as?"] == "Male"   ]["Perception Total"]
female = data[data["What gender do you identify as?"]== "Female"]["Perception Total"]
male = male.dropna()
female = female.dropna()
stats.shapiro(male), stats.shapiro(female) ,stats.ttest_ind(male, female)  # normality failed


male.plot(kind='hist', alpha=0.7), female.plot(kind='hist', alpha=0.7);





ug = data[data["Highest educational qualification (or now pursuing)"] == "Undergraduate (or diploma)"]["Perception Total"]
pg = data[data["Highest educational qualification (or now pursuing)"] == "Post-graduation"           ]["Perception Total"]
ug = ug.dropna()
pg = pg.dropna()
stats.shapiro(ug), stats.shapiro(pg), stats.ttest_ind(ug, pg)


ug.plot(kind='hist', alpha = 0.7), pg.plot(kind='hist', alpha = 0.7);





sp   = data[data["Which device do you use for online classes.   (multiple options available)"] == "Smartphone"       ]["Perception Total"]
splp = data[data["Which device do you use for online classes.   (multiple options available)"] == "Smartphone;Laptop"]["Perception Total"]
sp   =   sp.dropna()
splp = splp.dropna()
stats.shapiro(sp), stats.shapiro(splp), stats.ttest_ind(sp, splp)


sp.plot(kind='hist', alpha=0.7), splp.plot(kind='hist', alpha=0.7);





yes = data[data["Have you achieved your expected academic outcome?"] == "Yes"]["Perception Total"]
no  = data[data["Have you achieved your expected academic outcome?"] == "No" ]["Perception Total"]
yes = yes.dropna()
no = no.dropna()
stats.shapiro(yes), stats.shapiro(no), stats.ttest_ind(yes, no)


yes.plot(kind='hist', alpha=0.7), no.plot(kind='hist', alpha=0.7);








male = data[data["What gender do you identify as?"] == "Male"   ]["Interest Total"]
female = data[data["What gender do you identify as?"]== "Female"]["Interest Total"]
male = male.dropna()
female = female.dropna()
stats.shapiro(male), stats.shapiro(female) ,stats.ttest_ind(male, female)  # normality failed


male.plot(kind='hist', alpha=0.7), female.plot(kind='hist', alpha=0.7)





ug = data[data["Highest educational qualification (or now pursuing)"] == "Undergraduate (or diploma)"]["Interest Total"]
pg = data[data["Highest educational qualification (or now pursuing)"] == "Post-graduation"           ]["Interest Total"]
ug = ug.dropna()
pg = pg.dropna()
stats.shapiro(ug), stats.shapiro(pg), stats.ttest_ind(ug, pg)


ug.mean(), ug.std(), pg.mean(), pg.std()


# There is a differnence in interest of participation in online classes by under-graduation and post-graduation students
# Reject H0


ug.plot(kind='hist', alpha=0.7), pg.plot(kind='hist', alpha=0.7)





sp   = data[data["Which device do you use for online classes.   (multiple options available)"] == "Smartphone"       ]["Interest Total"]
splp = data[data["Which device do you use for online classes.   (multiple options available)"] == "Smartphone;Laptop"]["Interest Total"]
sp   =   sp.dropna()
splp = splp.dropna()
stats.shapiro(sp), stats.shapiro(splp), stats.ttest_ind(sp, splp)


sp.plot(kind='hist', alpha=0.7), splp.plot(kind= 'hist', alpha=0.7)





yes = data[data["Have you achieved your expected academic outcome?"] == "Yes"]["Interest Total"]
no  = data[data["Have you achieved your expected academic outcome?"] == "No" ]["Interest Total"]
yes = yes.dropna()
no = no.dropna()
stats.shapiro(yes), stats.shapiro(no), stats.ttest_ind(yes, no)


yes.plot(kind='hist', alpha=0.7), no.plot(kind='hist', alpha=0.7)


data.to_csv("cleaned.csv")








temp = ols('Marks ~ Gender + Age + Education + ss + ocd + eocd + tdu + doc + ic + ac + buc + poc + ata + smu+ bc + ce', data);
model1= temp.fit()
print(model1.params)
# 16 predictor variables


model1.summary2()


temp = ols('Marks ~ Gender + Age + Education + ss + ocd + doc + ic + ac + buc + poc + ata + smu+ bc + ce', data);
model2= temp.fit()
print(model2.params)
# ocd and tdu variables have hign correlation with eocd, which may cause overfit of model
# but ocd has higher significance than other two variables also eocd and tdu has cofficients near to 0
# eocd and tdu variables are removed
# no change in accuracy


model2.summary2()


temp = ols('Marks ~ Education + Age + Gender + ss + poc + ocd + ic + ac + buc + ata + smu+ bc + ce', data);
model3= temp.fit()
print(model3.params)
# doc variable has less significance
# varaible doc removed


model3.summary2()


temp = ols('Marks ~ Education + ss + ocd + ic + ac + buc + ata + smu+ bc + ce', data);
model4= temp.fit()
print(model4.params)
# poc, Age, and Gender variables are removed since not significant
# AIC value after including Age variable has a difference less than 2, but no significant change in accuracy, variable removed to decrease predictor variables.


model4.summary2()


temp = ols('Marks ~ Education + ss + ocd + ic + ac', data);
model5= temp.fit();
print(model5.params);
# bc, buc, smu, ata, and ce


model5.summary2()


model5.predict({'Education': 'ug', 'ss': 4, 'ocd': 3, 'ic': 'g', 'ac': 'No'})


def evaluateModel(model):
    print("RSS = ", ((data.Marks - model.predict())**2).sum())
    print("R2 = ", model.rsquared)


evaluateModel(model5);
# our model is 81.2% accurate


y, X = dmatrices('Marks ~ Education + ss + ocd + ic + ac', data, return_type='dataframe')

vif = pd.DataFrame()
vif["Feature"] = X.columns
vif["VIF Factor"] = [variance_inflation_factor(X.values, i) for i in range(X.shape[1])]
print("       VARIANCE INFLATION FACTOR")
print('=======================================')
print(vif)












