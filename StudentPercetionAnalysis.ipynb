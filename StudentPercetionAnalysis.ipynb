{
 "cells": [
  {
   "cell_type": "markdown",
   "metadata": {},
   "source": [
    "<h1> <i> <u> Student Perception Analysis using Multiple Linear Regression"
   ]
  },
  {
   "cell_type": "markdown",
   "metadata": {},
   "source": [
    "## Importing libaries and understanding the data"
   ]
  },
  {
   "cell_type": "code",
   "execution_count": null,
   "metadata": {},
   "outputs": [],
   "source": [
    "import numpy as np\n",
    "import pandas as pd\n",
    "from pandas.plotting import table\n",
    "import matplotlib.pyplot as plt\n",
    "import matplotlib.colors as pltcol\n",
    "import matplotlib.ticker as ticker\n",
    "import seaborn as sns\n",
    "%matplotlib inline\n",
    "import math\n",
    "import statsmodels.api as sm\n",
    "from statsmodels.formula.api import ols\n",
    "import statsmodels.tools.eval_measures as ev\n",
    "from sklearn.linear_model import LinearRegression\n",
    "from sklearn.model_selection import train_test_split\n",
    "from patsy import dmatrices\n",
    "from statsmodels.stats.outliers_influence import variance_inflation_factor\n",
    "# importing r2_score module\n",
    "from sklearn.metrics import mean_absolute_error, make_scorer\n",
    "from sklearn.metrics import r2_score\n",
    "from sklearn.metrics import mean_squared_error\n",
    "# predicting the accuracy score\n",
    "from sklearn.model_selection import cross_val_score\n",
    "from sklearn.preprocessing import StandardScaler,MinMaxScaler"
   ]
  },
  {
   "cell_type": "code",
   "execution_count": null,
   "metadata": {},
   "outputs": [],
   "source": [
    "data = pd.read_csv('StudentData.csv')\n",
    "len(data)"
   ]
  },
  {
   "cell_type": "code",
   "execution_count": null,
   "metadata": {},
   "outputs": [],
   "source": [
    "data.info()\n",
    "# Data is processed through feature engineering techniques using bivariable analysis"
   ]
  },
  {
   "cell_type": "code",
   "execution_count": null,
   "metadata": {},
   "outputs": [],
   "source": [
    "data.describe()\n",
    "# comparing median, max and min, there may be outliers in Age, tdu, doc and marks"
   ]
  },
  {
   "cell_type": "markdown",
   "metadata": {},
   "source": [
    "#### ocd = Online class duration (H0)\n",
    "#### eocd = expected online class duration\n",
    "#### tdu = Total data usage\n",
    "#### ss = self study\n",
    "#### doc = Data online classes (H0)\n",
    "#### ac = Academic Outcome (H0)\n",
    "#### is = Internet speed (H0)\n",
    "<!--     (5 point likert scale data) to measure satisfaction-->\n",
    "#### buc = beter in understanding the concept (H0) \n",
    "<!--     (ordinal scale) to measure degree fo occurence-->\n",
    "#### poc = Participation in online classes (H0)\n",
    "#### ata = availability of teacher's assistance (H0)\n",
    "#### smu = social media usage (H0)\n",
    "#### bc = bored in class (H0) \n",
    "#### ce = chear in exams (H0) \n",
    "\n",
    "    after testing different models:\n",
    "    buc variable has no impact on response variable\n",
    "    doc has many outliers and also not impacting the variable"
   ]
  },
  {
   "cell_type": "code",
   "execution_count": null,
   "metadata": {},
   "outputs": [],
   "source": [
    "for i in data.columns:\n",
    "    print(i)\n",
    "    print(data[i].value_counts())\n",
    "    print('------------------------------')"
   ]
  },
  {
   "cell_type": "markdown",
   "metadata": {},
   "source": [
    "## Exploratory Data Analysis"
   ]
  },
  {
   "cell_type": "code",
   "execution_count": null,
   "metadata": {
    "scrolled": true
   },
   "outputs": [],
   "source": [
    "plt.figure(figsize=(12, 10))\n",
    "sns.heatmap(data=data.corr(method='spearman'), annot=True, vmin=-1, cmap='winter') # spearman's rank correlation\n",
    "# ss, ocd, eocd, doc has cosiderable correlation\n",
    "# selected these variables and validating using exploratory data analysis considering ocd and eocd has significant correlation, colleniearity must be removed"
   ]
  },
  {
   "cell_type": "markdown",
   "metadata": {},
   "source": [
    "### EDA / Univariate\n",
    "To detect outliers or anomolies in the data to manipulate accordingly by comparing using bivariate data analysis"
   ]
  },
  {
   "cell_type": "code",
   "execution_count": null,
   "metadata": {},
   "outputs": [],
   "source": [
    "plt.figure(figsize=(10, 10))\n",
    "data['Age'].plot()\n",
    "#Age predictor has consistent line graph with possible outliers at age of 27-30 \n",
    "#(because of less data available from phd students)"
   ]
  },
  {
   "cell_type": "code",
   "execution_count": null,
   "metadata": {},
   "outputs": [],
   "source": [
    "plt.figure(figsize=(10, 10))\n",
    "data.ss.plot()\n",
    "# consistent graph with no possible outliers\n",
    "# possible for right skewed distribution"
   ]
  },
  {
   "cell_type": "code",
   "execution_count": null,
   "metadata": {},
   "outputs": [],
   "source": [
    "plt.figure(figsize=(10, 10))\n",
    "sns.histplot(data=data,binwidth=0.9, x='ss')"
   ]
  },
  {
   "cell_type": "code",
   "execution_count": null,
   "metadata": {},
   "outputs": [],
   "source": [
    "plt.figure(figsize=(10, 10))\n",
    "data.ocd.plot()\n",
    "# cosistent graph with possible outliers at 1 or consistent"
   ]
  },
  {
   "cell_type": "code",
   "execution_count": null,
   "metadata": {},
   "outputs": [],
   "source": [
    "plt.figure(figsize=(10, 10))\n",
    "sns.histplot(data=data, x= 'ocd', binwidth=1)\n",
    "# left skewed"
   ]
  },
  {
   "cell_type": "code",
   "execution_count": null,
   "metadata": {},
   "outputs": [],
   "source": [
    "plt.figure(figsize=(10, 10))\n",
    "data.eocd.plot()\n",
    "# cosistent graph, possible outliers at 0"
   ]
  },
  {
   "cell_type": "code",
   "execution_count": null,
   "metadata": {},
   "outputs": [],
   "source": [
    "plt.figure(figsize=(10, 10))\n",
    "sns.histplot(data=data, x='eocd', binwidth=0.9, kde=True)\n",
    "# possibly left skewed with most of the dist. in right part of the dist."
   ]
  },
  {
   "cell_type": "code",
   "execution_count": null,
   "metadata": {},
   "outputs": [],
   "source": [
    "plt.figure(figsize=(10, 10))\n",
    "data.tdu.plot()\n",
    "# outlier at 6 and possibly right skewed"
   ]
  },
  {
   "cell_type": "code",
   "execution_count": null,
   "metadata": {},
   "outputs": [],
   "source": [
    "plt.figure(figsize=(10, 10))\n",
    "sns.histplot(data=data, x='tdu', binwidth=1)\n",
    "# right skewed with ouliers on right end of dist."
   ]
  },
  {
   "cell_type": "code",
   "execution_count": null,
   "metadata": {},
   "outputs": [],
   "source": [
    "plt.figure(figsize=(10, 10))\n",
    "data.doc.plot()\n",
    "# possible outliers at 0 and 3 and possible to be right skewed"
   ]
  },
  {
   "cell_type": "code",
   "execution_count": null,
   "metadata": {},
   "outputs": [],
   "source": [
    "plt.figure(figsize=(10, 10))\n",
    "sns.histplot(data=data, x='doc', binwidth=0.5)"
   ]
  },
  {
   "cell_type": "code",
   "execution_count": null,
   "metadata": {},
   "outputs": [],
   "source": [
    "plt.figure(figsize=(12, 10))\n",
    "data.drop('Marks', axis=1).boxplot(grid = False)\n",
    "plt.xticks(size=11);\n",
    "plt.yticks(size=13);\n",
    "plt.xlabel('Predictor variables')\n",
    "plt.title('Box plot for outlier analysis', size=20)\n",
    "# Inter quartile range "
   ]
  },
  {
   "cell_type": "markdown",
   "metadata": {},
   "source": [
    "### EDA / Bivariate data analysis\n",
    "Compare the response variable with avialable ordianal variables to hypothesise the impact and to select the variable for predicting the response variable."
   ]
  },
  {
   "cell_type": "code",
   "execution_count": null,
   "metadata": {},
   "outputs": [],
   "source": [
    "plt.figure(figsize=(10, 10))\n",
    "sns.histplot(x=data['Marks'], hue=data['Gender'], multiple='stack', binwidth=5)\n",
    "# Gender ordinal variable has no significan factoring impact on the response variable\n",
    "# variable not selected"
   ]
  },
  {
   "cell_type": "code",
   "execution_count": null,
   "metadata": {},
   "outputs": [],
   "source": [
    "plt.figure(figsize=(10, 10))\n",
    "sns.histplot(data=data, x = 'Marks', bins=10, hue= 'Education', multiple='stack');\n",
    "# Due to less avialability of data from phd students and no significant difference in impacting the response variable\n",
    "# variable no selected # undecided\n",
    "# testing models, pg students has less marks and compared to other grads, even though its not significant, it helped incressing 2% more accuracy"
   ]
  },
  {
   "cell_type": "code",
   "execution_count": null,
   "metadata": {},
   "outputs": [],
   "source": [
    "plt.figure(figsize=(10, 10))\n",
    "sns.histplot(data=data, x='Marks', hue='ic', multiple='stack');\n",
    "# plt.legend( fontsize='x-large', title = \"Internet speed\", loc='upper left')\n",
    "# Internet speed variable has impact on the response variable, people with the best and good internet connection are more likely to get good marks and agrees online classes are better\n",
    "# variable selected"
   ]
  },
  {
   "cell_type": "code",
   "execution_count": null,
   "metadata": {},
   "outputs": [],
   "source": [
    "plt.figure(figsize=(10, 10))\n",
    "sns.histplot(data=data, x='Marks', hue='ac', multiple='stack', hue_order=['Yes', 'No'])\n",
    "# Academic outcome has a significant impact on the response variable\n",
    "# variable selected"
   ]
  },
  {
   "cell_type": "code",
   "execution_count": null,
   "metadata": {},
   "outputs": [],
   "source": [
    "plt.figure(figsize=(10, 10))\n",
    "sns.histplot(data=data, x='Marks', hue='buc', multiple='stack')\n",
    "# even though there is no significant difference of impact, most of the student with above 80 marks has agreed that online lernign is better that offline learning\n",
    "# variable selected"
   ]
  },
  {
   "cell_type": "code",
   "execution_count": null,
   "metadata": {},
   "outputs": [],
   "source": [
    "plt.figure(figsize=(10, 10))\n",
    "sns.histplot(data=data, x='Marks', hue='poc', multiple='stack');\n",
    "# no impact on response variable\n",
    "# variable not selected"
   ]
  },
  {
   "cell_type": "code",
   "execution_count": null,
   "metadata": {},
   "outputs": [],
   "source": [
    "plt.figure(figsize=(10, 10))\n",
    "sns.histplot(data=data, x='Marks', hue='ata', multiple='stack')\n",
    "# The higher the marks the most people agreed they are getting teachers assistance\n",
    "# Even though there is no significant impact, the diffecrence in acceptence in good marks region can impact the response variable moderately\n",
    "# variable selected"
   ]
  },
  {
   "cell_type": "code",
   "execution_count": null,
   "metadata": {},
   "outputs": [],
   "source": [
    "plt.figure(figsize=(10, 10))\n",
    "sns.histplot(data=data, x='Marks', hue='smu', multiple='stack')\n",
    "# some people of above 75 marks has not uses socail media\n",
    "# variable selected"
   ]
  },
  {
   "cell_type": "code",
   "execution_count": null,
   "metadata": {},
   "outputs": [],
   "source": [
    "plt.figure(figsize=(10, 10))\n",
    "sns.histplot(data=data, x='Marks', hue= 'bc', multiple='stack')\n",
    "# some people above 75 have never got bored in online classes\n",
    "# varible selected"
   ]
  },
  {
   "cell_type": "code",
   "execution_count": null,
   "metadata": {},
   "outputs": [],
   "source": [
    "plt.figure(figsize=(10, 10))\n",
    "sns.histplot(data=data, x='Marks', hue='ce', multiple='stack')\n",
    "# some students with more than 75 marks says, they never cheated in exams"
   ]
  },
  {
   "cell_type": "code",
   "execution_count": null,
   "metadata": {},
   "outputs": [],
   "source": [
    "sns.jointplot(data=data, x='Marks', y='doc', kind='reg')"
   ]
  },
  {
   "cell_type": "markdown",
   "metadata": {},
   "source": [
    "## Feature Engineering"
   ]
  },
  {
   "cell_type": "markdown",
   "metadata": {},
   "source": [
    "    # Missing values and alomolies were alredy processed and manipulated sucessfully"
   ]
  },
  {
   "cell_type": "markdown",
   "metadata": {},
   "source": [
    "# MLR model and Variable selection(stepwise method)"
   ]
  },
  {
   "cell_type": "markdown",
   "metadata": {},
   "source": [
    "The numeric variables are selected using forward variable selection method, and the categorical variables are removed after building the model with all the categorical variables available. The ordinal scale variabels are removed based on the significance values from the summary table, AIC, BIC and adjusted R squared values."
   ]
  },
  {
   "cell_type": "code",
   "execution_count": null,
   "metadata": {},
   "outputs": [],
   "source": []
  },
  {
   "cell_type": "code",
   "execution_count": null,
   "metadata": {},
   "outputs": [],
   "source": [
    "temp = ols('Marks ~ Gender + Age + Education + ss + ocd + eocd + tdu + doc + ic + ac + buc + poc + ata + smu+ bc + ce', data);\n",
    "model1= temp.fit()\n",
    "print(model1.params)\n",
    "# 16 predictor variables"
   ]
  },
  {
   "cell_type": "code",
   "execution_count": null,
   "metadata": {},
   "outputs": [],
   "source": [
    "model1.summary2()"
   ]
  },
  {
   "cell_type": "code",
   "execution_count": null,
   "metadata": {},
   "outputs": [],
   "source": [
    "temp = ols('Marks ~ Gender + Age + Education + ss + ocd + doc + ic + ac + buc + poc + ata + smu+ bc + ce', data);\n",
    "model2= temp.fit()\n",
    "print(model2.params)\n",
    "# ocd and tdu variables have hign correlation with eocd, which may cause overfit of model\n",
    "# but ocd has higher significance than other two variables also eocd and tdu has cofficients near to 0\n",
    "# eocd and tdu variables are removed\n",
    "# no change in accuracy"
   ]
  },
  {
   "cell_type": "code",
   "execution_count": null,
   "metadata": {},
   "outputs": [],
   "source": [
    "model2.summary2()"
   ]
  },
  {
   "cell_type": "code",
   "execution_count": null,
   "metadata": {},
   "outputs": [],
   "source": [
    "temp = ols('Marks ~ Education + Age + Gender + ss + poc + ocd + ic + ac + buc + ata + smu+ bc + ce', data);\n",
    "model3= temp.fit()\n",
    "print(model3.params)\n",
    "# doc variable has less significance\n",
    "# varaible doc removed"
   ]
  },
  {
   "cell_type": "code",
   "execution_count": null,
   "metadata": {},
   "outputs": [],
   "source": [
    "model3.summary2()"
   ]
  },
  {
   "cell_type": "code",
   "execution_count": null,
   "metadata": {},
   "outputs": [],
   "source": [
    "temp = ols('Marks ~ Education + ss + ocd + ic + ac + buc + ata + smu+ bc + ce', data);\n",
    "model4= temp.fit()\n",
    "print(model4.params)\n",
    "# poc, Age, and Gender variables are removed since not significant\n",
    "# AIC value after including Age variable has a difference less than 2, but no significant change in accuracy, variable removed to decrease predictor variables."
   ]
  },
  {
   "cell_type": "code",
   "execution_count": null,
   "metadata": {},
   "outputs": [],
   "source": [
    "model4.summary2()"
   ]
  },
  {
   "cell_type": "code",
   "execution_count": null,
   "metadata": {},
   "outputs": [],
   "source": [
    "temp = ols('Marks ~ Education + ss + ocd + ic + ac', data);\n",
    "model5= temp.fit()\n",
    "print(model5.params)\n",
    "# bc, buc, smu, ata, and ce"
   ]
  },
  {
   "cell_type": "code",
   "execution_count": null,
   "metadata": {},
   "outputs": [],
   "source": [
    "model5.summary2()"
   ]
  },
  {
   "cell_type": "code",
   "execution_count": null,
   "metadata": {},
   "outputs": [],
   "source": [
    "model5.predict({'Education': 'ug', 'ss': 1, 'ocd': 6, 'ic': 'b', 'ac': 'No', 'ata': 'a2'})"
   ]
  },
  {
   "cell_type": "code",
   "execution_count": null,
   "metadata": {},
   "outputs": [],
   "source": [
    "def evaluateModel(model):\n",
    "    print(\"RSS = \", ((data.Marks - model.predict())**2).sum())\n",
    "    print(\"R2 = \", model.rsquared)"
   ]
  },
  {
   "cell_type": "code",
   "execution_count": null,
   "metadata": {},
   "outputs": [],
   "source": [
    "evaluateModel(model5);\n",
    "# our model is 81.2% accurate"
   ]
  }
 ],
 "metadata": {
  "interpreter": {
   "hash": "31f2aee4e71d21fbe5cf8b01ff0e069b9275f58929596ceb00d14d90e3e16cd6"
  },
  "kernelspec": {
   "display_name": "Python 3",
   "language": "python",
   "name": "python3"
  },
  "language_info": {
   "codemirror_mode": {
    "name": "ipython",
    "version": 3
   },
   "file_extension": ".py",
   "mimetype": "text/x-python",
   "name": "python",
   "nbconvert_exporter": "python",
   "pygments_lexer": "ipython3",
   "version": "3.6.9"
  }
 },
 "nbformat": 4,
 "nbformat_minor": 2
}
