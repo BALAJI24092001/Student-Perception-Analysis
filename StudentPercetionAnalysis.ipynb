{
 "cells": [
  {
   "cell_type": "markdown",
   "metadata": {},
   "source": [
    "## Student Perception Analysis using Multiple Linear Regression to predict marks"
   ]
  },
  {
   "cell_type": "markdown",
   "metadata": {},
   "source": [
    "### Importing libaries and understanding the data and its attributes"
   ]
  },
  {
   "cell_type": "code",
   "execution_count": 1,
   "metadata": {},
   "outputs": [],
   "source": [
    "import pandas as pd\n",
    "import matplotlib.pyplot as plt\n",
    "import seaborn as sns\n",
    "import numpy as np\n",
    "%matplotlib inline"
   ]
  },
  {
   "cell_type": "code",
   "execution_count": 2,
   "metadata": {},
   "outputs": [
    {
     "data": {
      "text/html": [
       "<div>\n",
       "<style scoped>\n",
       "    .dataframe tbody tr th:only-of-type {\n",
       "        vertical-align: middle;\n",
       "    }\n",
       "\n",
       "    .dataframe tbody tr th {\n",
       "        vertical-align: top;\n",
       "    }\n",
       "\n",
       "    .dataframe thead th {\n",
       "        text-align: right;\n",
       "    }\n",
       "</style>\n",
       "<table border=\"1\" class=\"dataframe\">\n",
       "  <thead>\n",
       "    <tr style=\"text-align: right;\">\n",
       "      <th></th>\n",
       "      <th>Age</th>\n",
       "      <th>self study</th>\n",
       "      <th>Online class duration</th>\n",
       "      <th>expected online class duration</th>\n",
       "      <th>Total data usage</th>\n",
       "      <th>Data Online class</th>\n",
       "      <th>Marks</th>\n",
       "    </tr>\n",
       "  </thead>\n",
       "  <tbody>\n",
       "    <tr>\n",
       "      <th>count</th>\n",
       "      <td>61.000000</td>\n",
       "      <td>61.000000</td>\n",
       "      <td>61.000000</td>\n",
       "      <td>61.000000</td>\n",
       "      <td>61.000000</td>\n",
       "      <td>61.000000</td>\n",
       "      <td>61.000000</td>\n",
       "    </tr>\n",
       "    <tr>\n",
       "      <th>mean</th>\n",
       "      <td>21.180328</td>\n",
       "      <td>3.860656</td>\n",
       "      <td>4.729508</td>\n",
       "      <td>4.049180</td>\n",
       "      <td>2.070492</td>\n",
       "      <td>1.186885</td>\n",
       "      <td>84.306557</td>\n",
       "    </tr>\n",
       "    <tr>\n",
       "      <th>std</th>\n",
       "      <td>1.839458</td>\n",
       "      <td>2.604693</td>\n",
       "      <td>1.374087</td>\n",
       "      <td>1.321946</td>\n",
       "      <td>1.712634</td>\n",
       "      <td>0.598255</td>\n",
       "      <td>8.104893</td>\n",
       "    </tr>\n",
       "    <tr>\n",
       "      <th>min</th>\n",
       "      <td>18.000000</td>\n",
       "      <td>1.000000</td>\n",
       "      <td>1.000000</td>\n",
       "      <td>1.000000</td>\n",
       "      <td>0.500000</td>\n",
       "      <td>0.100000</td>\n",
       "      <td>65.000000</td>\n",
       "    </tr>\n",
       "    <tr>\n",
       "      <th>25%</th>\n",
       "      <td>20.000000</td>\n",
       "      <td>2.000000</td>\n",
       "      <td>4.000000</td>\n",
       "      <td>3.000000</td>\n",
       "      <td>1.500000</td>\n",
       "      <td>1.000000</td>\n",
       "      <td>80.000000</td>\n",
       "    </tr>\n",
       "    <tr>\n",
       "      <th>50%</th>\n",
       "      <td>21.000000</td>\n",
       "      <td>3.000000</td>\n",
       "      <td>5.000000</td>\n",
       "      <td>4.000000</td>\n",
       "      <td>1.500000</td>\n",
       "      <td>1.000000</td>\n",
       "      <td>85.000000</td>\n",
       "    </tr>\n",
       "    <tr>\n",
       "      <th>75%</th>\n",
       "      <td>22.000000</td>\n",
       "      <td>6.000000</td>\n",
       "      <td>5.000000</td>\n",
       "      <td>5.000000</td>\n",
       "      <td>2.000000</td>\n",
       "      <td>1.500000</td>\n",
       "      <td>90.000000</td>\n",
       "    </tr>\n",
       "    <tr>\n",
       "      <th>max</th>\n",
       "      <td>26.000000</td>\n",
       "      <td>12.000000</td>\n",
       "      <td>8.000000</td>\n",
       "      <td>8.000000</td>\n",
       "      <td>10.000000</td>\n",
       "      <td>3.000000</td>\n",
       "      <td>96.000000</td>\n",
       "    </tr>\n",
       "  </tbody>\n",
       "</table>\n",
       "</div>"
      ],
      "text/plain": [
       "             Age  self study  Online class duration  \\\n",
       "count  61.000000   61.000000              61.000000   \n",
       "mean   21.180328    3.860656               4.729508   \n",
       "std     1.839458    2.604693               1.374087   \n",
       "min    18.000000    1.000000               1.000000   \n",
       "25%    20.000000    2.000000               4.000000   \n",
       "50%    21.000000    3.000000               5.000000   \n",
       "75%    22.000000    6.000000               5.000000   \n",
       "max    26.000000   12.000000               8.000000   \n",
       "\n",
       "       expected online class duration  Total data usage  Data Online class  \\\n",
       "count                       61.000000         61.000000          61.000000   \n",
       "mean                         4.049180          2.070492           1.186885   \n",
       "std                          1.321946          1.712634           0.598255   \n",
       "min                          1.000000          0.500000           0.100000   \n",
       "25%                          3.000000          1.500000           1.000000   \n",
       "50%                          4.000000          1.500000           1.000000   \n",
       "75%                          5.000000          2.000000           1.500000   \n",
       "max                          8.000000         10.000000           3.000000   \n",
       "\n",
       "           Marks  \n",
       "count  61.000000  \n",
       "mean   84.306557  \n",
       "std     8.104893  \n",
       "min    65.000000  \n",
       "25%    80.000000  \n",
       "50%    85.000000  \n",
       "75%    90.000000  \n",
       "max    96.000000  "
      ]
     },
     "execution_count": 2,
     "metadata": {},
     "output_type": "execute_result"
    }
   ],
   "source": [
    "data = pd.read_csv('StudentData.csv')\n",
    "data.describe()"
   ]
  },
  {
   "cell_type": "code",
   "execution_count": 3,
   "metadata": {},
   "outputs": [
    {
     "name": "stdout",
     "output_type": "stream",
     "text": [
      "<class 'pandas.core.frame.DataFrame'>\n",
      "RangeIndex: 61 entries, 0 to 60\n",
      "Data columns (total 17 columns):\n",
      " #   Column                                                                                             Non-Null Count  Dtype  \n",
      "---  ------                                                                                             --------------  -----  \n",
      " 0   Gender                                                                                             61 non-null     object \n",
      " 1   Age                                                                                                61 non-null     int64  \n",
      " 2   Education                                                                                          61 non-null     object \n",
      " 3   self study                                                                                         61 non-null     float64\n",
      " 4   Online class duration                                                                              61 non-null     float64\n",
      " 5   expected online class duration                                                                     61 non-null     int64  \n",
      " 6   Total data usage                                                                                   61 non-null     float64\n",
      " 7   Data Online class                                                                                  61 non-null     float64\n",
      " 8   Internet speed                                                                                     61 non-null     object \n",
      " 9   Academic Outcome                                                                                   61 non-null     object \n",
      " 10  Marks                                                                                              61 non-null     float64\n",
      " 11  Perception on Online Classes [Better in understanding the concept .]                               61 non-null     object \n",
      " 12  Interest of participation in Online Classes [How actively do you participate in Online classes.]   61 non-null     object \n",
      " 13  Interest of participation in Online Classes [How often you get your teachers assistance.]          61 non-null     object \n",
      " 14  Interest of participation in Online Classes [How much do you use social media(including YouTube)]  61 non-null     object \n",
      " 15  Interest of participation in Online Classes [Get bored in class.]                                  61 non-null     object \n",
      " 16  Interest of participation in Online Classes [Cheat in exams]                                       61 non-null     object \n",
      "dtypes: float64(5), int64(2), object(10)\n",
      "memory usage: 8.2+ KB\n"
     ]
    }
   ],
   "source": [
    "data.info()"
   ]
  },
  {
   "cell_type": "code",
   "execution_count": 4,
   "metadata": {},
   "outputs": [
    {
     "data": {
      "text/plain": [
       "Male      43\n",
       "Female    18\n",
       "Name: Gender, dtype: int64"
      ]
     },
     "execution_count": 4,
     "metadata": {},
     "output_type": "execute_result"
    }
   ],
   "source": [
    "data.Gender.value_counts()"
   ]
  },
  {
   "cell_type": "code",
   "execution_count": 5,
   "metadata": {},
   "outputs": [
    {
     "data": {
      "text/plain": [
       "Undergraduate (or diploma)    36\n",
       "Post-graduation               24\n",
       "Ph D                           1\n",
       "Name: Education, dtype: int64"
      ]
     },
     "execution_count": 5,
     "metadata": {},
     "output_type": "execute_result"
    }
   ],
   "source": [
    "data.Education.value_counts()"
   ]
  },
  {
   "cell_type": "code",
   "execution_count": 6,
   "metadata": {},
   "outputs": [
    {
     "data": {
      "text/plain": [
       "<AxesSubplot:xlabel='expected online class duration', ylabel='Count'>"
      ]
     },
     "execution_count": 6,
     "metadata": {},
     "output_type": "execute_result"
    },
    {
     "data": {
      "image/png": "[encoded data removed]",
      "text/plain": [
       "<Figure size 432x288 with 1 Axes>"
      ]
     },
     "metadata": {
      "needs_background": "light"
     },
     "output_type": "display_data"
    }
   ],
   "source": [
    "# data['expected online class duration'].plot(kind='hist');\n",
    "sns.histplot(data['expected online class duration'], kde=True)"
   ]
  },
  {
   "cell_type": "code",
   "execution_count": 7,
   "metadata": {},
   "outputs": [],
   "source": [
    "# data2 = pd.get_dummies(data['Education'], drop_first=True)\n",
    "# data = pd.concat((data, data2), axis=1)"
   ]
  },
  {
   "cell_type": "code",
   "execution_count": 8,
   "metadata": {},
   "outputs": [
    {
     "data": {
      "text/html": [
       "<div>\n",
       "<style scoped>\n",
       "    .dataframe tbody tr th:only-of-type {\n",
       "        vertical-align: middle;\n",
       "    }\n",
       "\n",
       "    .dataframe tbody tr th {\n",
       "        vertical-align: top;\n",
       "    }\n",
       "\n",
       "    .dataframe thead th {\n",
       "        text-align: right;\n",
       "    }\n",
       "</style>\n",
       "<table border=\"1\" class=\"dataframe\">\n",
       "  <thead>\n",
       "    <tr style=\"text-align: right;\">\n",
       "      <th></th>\n",
       "      <th>Gender</th>\n",
       "      <th>Age</th>\n",
       "      <th>Education</th>\n",
       "      <th>self study</th>\n",
       "      <th>Online class duration</th>\n",
       "      <th>expected online class duration</th>\n",
       "      <th>Total data usage</th>\n",
       "      <th>Data Online class</th>\n",
       "      <th>Internet speed</th>\n",
       "      <th>Academic Outcome</th>\n",
       "      <th>Marks</th>\n",
       "      <th>Perception on Online Classes [Better in understanding the concept .]</th>\n",
       "      <th>Interest of participation in Online Classes [How actively do you participate in Online classes.]</th>\n",
       "      <th>Interest of participation in Online Classes [How often you get your teachers assistance.]</th>\n",
       "      <th>Interest of participation in Online Classes [How much do you use social media(including YouTube)]</th>\n",
       "      <th>Interest of participation in Online Classes [Get bored in class.]</th>\n",
       "      <th>Interest of participation in Online Classes [Cheat in exams]</th>\n",
       "    </tr>\n",
       "  </thead>\n",
       "  <tbody>\n",
       "    <tr>\n",
       "      <th>0</th>\n",
       "      <td>Male</td>\n",
       "      <td>20</td>\n",
       "      <td>Undergraduate (or diploma)</td>\n",
       "      <td>1.0</td>\n",
       "      <td>2.0</td>\n",
       "      <td>1</td>\n",
       "      <td>0.5</td>\n",
       "      <td>0.1</td>\n",
       "      <td>The worst(cannot even join the calsses)</td>\n",
       "      <td>No</td>\n",
       "      <td>65.0</td>\n",
       "      <td>2 Disagree</td>\n",
       "      <td>Never</td>\n",
       "      <td>Often</td>\n",
       "      <td>Always</td>\n",
       "      <td>Always</td>\n",
       "      <td>Always</td>\n",
       "    </tr>\n",
       "    <tr>\n",
       "      <th>1</th>\n",
       "      <td>Male</td>\n",
       "      <td>21</td>\n",
       "      <td>Undergraduate (or diploma)</td>\n",
       "      <td>2.0</td>\n",
       "      <td>4.5</td>\n",
       "      <td>4</td>\n",
       "      <td>1.0</td>\n",
       "      <td>0.8</td>\n",
       "      <td>Good(voice breaks and video stops very rarely)</td>\n",
       "      <td>No</td>\n",
       "      <td>68.0</td>\n",
       "      <td>2 Disagree</td>\n",
       "      <td>Always</td>\n",
       "      <td>Often</td>\n",
       "      <td>Sometimes</td>\n",
       "      <td>Often</td>\n",
       "      <td>Often</td>\n",
       "    </tr>\n",
       "    <tr>\n",
       "      <th>2</th>\n",
       "      <td>Female</td>\n",
       "      <td>19</td>\n",
       "      <td>Undergraduate (or diploma)</td>\n",
       "      <td>1.0</td>\n",
       "      <td>3.0</td>\n",
       "      <td>3</td>\n",
       "      <td>1.5</td>\n",
       "      <td>0.7</td>\n",
       "      <td>Good(voice breaks and video stops very rarely)</td>\n",
       "      <td>No</td>\n",
       "      <td>68.0</td>\n",
       "      <td>2 Disagree</td>\n",
       "      <td>Seldom</td>\n",
       "      <td>Seldom</td>\n",
       "      <td>Sometimes</td>\n",
       "      <td>Seldom</td>\n",
       "      <td>Seldom</td>\n",
       "    </tr>\n",
       "    <tr>\n",
       "      <th>3</th>\n",
       "      <td>Male</td>\n",
       "      <td>19</td>\n",
       "      <td>Undergraduate (or diploma)</td>\n",
       "      <td>4.0</td>\n",
       "      <td>5.0</td>\n",
       "      <td>2</td>\n",
       "      <td>1.0</td>\n",
       "      <td>1.0</td>\n",
       "      <td>The worst(cannot even join the calsses)</td>\n",
       "      <td>No</td>\n",
       "      <td>70.0</td>\n",
       "      <td>3 Neutral</td>\n",
       "      <td>Seldom</td>\n",
       "      <td>Seldom</td>\n",
       "      <td>Sometimes</td>\n",
       "      <td>Sometimes</td>\n",
       "      <td>Seldom</td>\n",
       "    </tr>\n",
       "    <tr>\n",
       "      <th>4</th>\n",
       "      <td>Male</td>\n",
       "      <td>22</td>\n",
       "      <td>Undergraduate (or diploma)</td>\n",
       "      <td>3.0</td>\n",
       "      <td>6.0</td>\n",
       "      <td>4</td>\n",
       "      <td>2.0</td>\n",
       "      <td>1.5</td>\n",
       "      <td>Have no opinion</td>\n",
       "      <td>Yes</td>\n",
       "      <td>70.0</td>\n",
       "      <td>2 Disagree</td>\n",
       "      <td>Seldom</td>\n",
       "      <td>Sometimes</td>\n",
       "      <td>Sometimes</td>\n",
       "      <td>Sometimes</td>\n",
       "      <td>Sometimes</td>\n",
       "    </tr>\n",
       "  </tbody>\n",
       "</table>\n",
       "</div>"
      ],
      "text/plain": [
       "   Gender  Age                   Education  self study  Online class duration  \\\n",
       "0    Male   20  Undergraduate (or diploma)         1.0                    2.0   \n",
       "1    Male   21  Undergraduate (or diploma)         2.0                    4.5   \n",
       "2  Female   19  Undergraduate (or diploma)         1.0                    3.0   \n",
       "3    Male   19  Undergraduate (or diploma)         4.0                    5.0   \n",
       "4    Male   22  Undergraduate (or diploma)         3.0                    6.0   \n",
       "\n",
       "   expected online class duration  Total data usage  Data Online class  \\\n",
       "0                               1               0.5                0.1   \n",
       "1                               4               1.0                0.8   \n",
       "2                               3               1.5                0.7   \n",
       "3                               2               1.0                1.0   \n",
       "4                               4               2.0                1.5   \n",
       "\n",
       "                                   Internet speed Academic Outcome  Marks  \\\n",
       "0         The worst(cannot even join the calsses)               No   65.0   \n",
       "1  Good(voice breaks and video stops very rarely)               No   68.0   \n",
       "2  Good(voice breaks and video stops very rarely)               No   68.0   \n",
       "3         The worst(cannot even join the calsses)               No   70.0   \n",
       "4                                 Have no opinion              Yes   70.0   \n",
       "\n",
       "  Perception on Online Classes [Better in understanding the concept .]  \\\n",
       "0                                         2 Disagree                     \n",
       "1                                         2 Disagree                     \n",
       "2                                         2 Disagree                     \n",
       "3                                          3 Neutral                     \n",
       "4                                         2 Disagree                     \n",
       "\n",
       "  Interest of participation in Online Classes [How actively do you participate in Online classes.]  \\\n",
       "0                                              Never                                                 \n",
       "1                                             Always                                                 \n",
       "2                                             Seldom                                                 \n",
       "3                                             Seldom                                                 \n",
       "4                                             Seldom                                                 \n",
       "\n",
       "  Interest of participation in Online Classes [How often you get your teachers assistance.]  \\\n",
       "0                                              Often                                          \n",
       "1                                              Often                                          \n",
       "2                                             Seldom                                          \n",
       "3                                             Seldom                                          \n",
       "4                                          Sometimes                                          \n",
       "\n",
       "  Interest of participation in Online Classes [How much do you use social media(including YouTube)]  \\\n",
       "0                                             Always                                                  \n",
       "1                                          Sometimes                                                  \n",
       "2                                          Sometimes                                                  \n",
       "3                                          Sometimes                                                  \n",
       "4                                          Sometimes                                                  \n",
       "\n",
       "  Interest of participation in Online Classes [Get bored in class.]  \\\n",
       "0                                             Always                  \n",
       "1                                              Often                  \n",
       "2                                             Seldom                  \n",
       "3                                          Sometimes                  \n",
       "4                                          Sometimes                  \n",
       "\n",
       "  Interest of participation in Online Classes [Cheat in exams]  \n",
       "0                                             Always            \n",
       "1                                              Often            \n",
       "2                                             Seldom            \n",
       "3                                             Seldom            \n",
       "4                                          Sometimes            "
      ]
     },
     "execution_count": 8,
     "metadata": {},
     "output_type": "execute_result"
    }
   ],
   "source": [
    "data.head()"
   ]
  },
  {
   "cell_type": "code",
   "execution_count": 9,
   "metadata": {},
   "outputs": [
    {
     "data": {
      "text/plain": [
       "<AxesSubplot:>"
      ]
     },
     "execution_count": 9,
     "metadata": {},
     "output_type": "execute_result"
    },
    {
     "data": {
      "image/png": "[encoded data removed]",
      "text/plain": [
       "<Figure size 720x720 with 2 Axes>"
      ]
     },
     "metadata": {
      "needs_background": "light"
     },
     "output_type": "display_data"
    }
   ],
   "source": [
    "plt.figure(figsize=(10,10))\n",
    "mask1 = np.zeros_like(data.corr())\n",
    "sns.heatmap(data.corr(), annot=True, cmap='winter', mask=mask1, vmin=-1, square=True)"
   ]
  },
  {
   "cell_type": "code",
   "execution_count": 10,
   "metadata": {},
   "outputs": [
    {
     "data": {
      "text/plain": [
       "<AxesSubplot:xlabel='Marks', ylabel='Count'>"
      ]
     },
     "execution_count": 10,
     "metadata": {},
     "output_type": "execute_result"
    },
    {
     "data": {
      "image/png": "[encoded data removed]",
      "text/plain": [
       "<Figure size 432x288 with 1 Axes>"
      ]
     },
     "metadata": {
      "needs_background": "light"
     },
     "output_type": "display_data"
    }
   ],
   "source": [
    "sns.histplot(data=data, x='Marks', kde=True, hue='Gender')"
   ]
  },
  {
   "cell_type": "code",
   "execution_count": 11,
   "metadata": {},
   "outputs": [
    {
     "data": {
      "text/plain": [
       "<AxesSubplot:xlabel='Marks', ylabel='Count'>"
      ]
     },
     "execution_count": 11,
     "metadata": {},
     "output_type": "execute_result"
    },
    {
     "data": {
      "image/png": "[encoded data removed]",
      "text/plain": [
       "<Figure size 432x288 with 1 Axes>"
      ]
     },
     "metadata": {
      "needs_background": "light"
     },
     "output_type": "display_data"
    }
   ],
   "source": [
    "sns.histplot(data=data, x='Marks', hue='Gender', alpha=.6, kde=False, multiple='stack')"
   ]
  }
 ],
 "metadata": {
  "interpreter": {
   "hash": "31f2aee4e71d21fbe5cf8b01ff0e069b9275f58929596ceb00d14d90e3e16cd6"
  },
  "kernelspec": {
   "display_name": "Python 3.6.9 64-bit",
   "language": "python",
   "name": "python3"
  },
  "language_info": {
   "codemirror_mode": {
    "name": "ipython",
    "version": 3
   },
   "file_extension": ".py",
   "mimetype": "text/x-python",
   "name": "python",
   "nbconvert_exporter": "python",
   "pygments_lexer": "ipython3",
   "version": "3.6.9"
  },
  "orig_nbformat": 4
 },
 "nbformat": 4,
 "nbformat_minor": 2
}
