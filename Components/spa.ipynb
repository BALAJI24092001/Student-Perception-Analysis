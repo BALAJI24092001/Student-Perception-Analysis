{
 "cells": [
  {
   "cell_type": "markdown",
   "metadata": {},
   "source": [
    "<h1> <i> <u> Student Perception Analysis using Multiple Linear Regression"
   ]
  },
  {
   "cell_type": "markdown",
   "metadata": {},
   "source": [
    "## Importing libaries and understanding the data"
   ]
  },
  {
   "cell_type": "code",
   "execution_count": 9,
   "metadata": {
    "tags": []
   },
   "outputs": [],
   "source": [
    "import numpy as np\n",
    "import pandas as pd\n",
    "from pandas.plotting import table\n",
    "import matplotlib.pyplot as plt\n",
    "import matplotlib.colors as pltcol\n",
    "import matplotlib.ticker as ticker\n",
    "import seaborn as sns\n",
    "%matplotlib inline\n",
    "import math\n",
    "import statsmodels.api as sm\n",
    "from statsmodels.formula.api import ols\n",
    "import statsmodels.tools.eval_measures as ev\n",
    "from sklearn.linear_model import LinearRegression\n",
    "from sklearn.model_selection import train_test_split\n",
    "from patsy import dmatrices\n",
    "from statsmodels.stats.outliers_influence import variance_inflation_factor\n",
    "# importing r2_score module\n",
    "from sklearn.metrics import mean_absolute_error, make_scorer\n",
    "from sklearn.metrics import r2_score\n",
    "from sklearn.metrics import mean_squared_error\n",
    "# predicting the accuracy score\n",
    "from sklearn.model_selection import cross_val_score\n",
    "from sklearn.preprocessing import StandardScaler,MinMaxScaler"
   ]
  },
  {
   "cell_type": "code",
   "execution_count": 10,
   "metadata": {
    "tags": []
   },
   "outputs": [
    {
     "data": {
      "text/plain": [
       "62"
      ]
     },
     "execution_count": 10,
     "metadata": {},
     "output_type": "execute_result"
    }
   ],
   "source": [
    "data = pd.read_csv('spa.csv')\n",
    "len(data)"
   ]
  },
  {
   "cell_type": "code",
   "execution_count": 11,
   "metadata": {},
   "outputs": [
    {
     "data": {
      "text/html": [
       "<div>\n",
       "<style scoped>\n",
       "    .dataframe tbody tr th:only-of-type {\n",
       "        vertical-align: middle;\n",
       "    }\n",
       "\n",
       "    .dataframe tbody tr th {\n",
       "        vertical-align: top;\n",
       "    }\n",
       "\n",
       "    .dataframe thead th {\n",
       "        text-align: right;\n",
       "    }\n",
       "</style>\n",
       "<table border=\"1\" class=\"dataframe\">\n",
       "  <thead>\n",
       "    <tr style=\"text-align: right;\">\n",
       "      <th></th>\n",
       "      <th>What is your age?</th>\n",
       "      <th>How many hours do you spend studying per day?</th>\n",
       "      <th>What is overall duration of online classes per day? (provided by your college) (in Hours)</th>\n",
       "      <th>What is your preferred time duration of online classes per day? (in Hours)</th>\n",
       "      <th>How much data do you use on an average per day?  (in GB)</th>\n",
       "      <th>How much data do you use for Online classes per day? (in GB)</th>\n",
       "      <th>How much did you score in your exams? (in percentage)</th>\n",
       "    </tr>\n",
       "  </thead>\n",
       "  <tbody>\n",
       "    <tr>\n",
       "      <th>count</th>\n",
       "      <td>61.000000</td>\n",
       "      <td>62.000000</td>\n",
       "      <td>62.000000</td>\n",
       "      <td>54.00000</td>\n",
       "      <td>62.000000</td>\n",
       "      <td>62.000000</td>\n",
       "      <td>55.000000</td>\n",
       "    </tr>\n",
       "    <tr>\n",
       "      <th>mean</th>\n",
       "      <td>21.327869</td>\n",
       "      <td>3.862903</td>\n",
       "      <td>4.733871</td>\n",
       "      <td>3.87963</td>\n",
       "      <td>1.972581</td>\n",
       "      <td>1.237581</td>\n",
       "      <td>84.103636</td>\n",
       "    </tr>\n",
       "    <tr>\n",
       "      <th>std</th>\n",
       "      <td>2.087433</td>\n",
       "      <td>2.583316</td>\n",
       "      <td>1.363210</td>\n",
       "      <td>1.39045</td>\n",
       "      <td>1.670591</td>\n",
       "      <td>0.896426</td>\n",
       "      <td>7.826237</td>\n",
       "    </tr>\n",
       "    <tr>\n",
       "      <th>min</th>\n",
       "      <td>18.000000</td>\n",
       "      <td>1.000000</td>\n",
       "      <td>1.000000</td>\n",
       "      <td>0.00000</td>\n",
       "      <td>0.500000</td>\n",
       "      <td>0.100000</td>\n",
       "      <td>68.000000</td>\n",
       "    </tr>\n",
       "    <tr>\n",
       "      <th>25%</th>\n",
       "      <td>20.000000</td>\n",
       "      <td>2.000000</td>\n",
       "      <td>4.000000</td>\n",
       "      <td>3.00000</td>\n",
       "      <td>1.000000</td>\n",
       "      <td>1.000000</td>\n",
       "      <td>80.000000</td>\n",
       "    </tr>\n",
       "    <tr>\n",
       "      <th>50%</th>\n",
       "      <td>21.000000</td>\n",
       "      <td>3.000000</td>\n",
       "      <td>5.000000</td>\n",
       "      <td>4.00000</td>\n",
       "      <td>1.500000</td>\n",
       "      <td>1.000000</td>\n",
       "      <td>85.000000</td>\n",
       "    </tr>\n",
       "    <tr>\n",
       "      <th>75%</th>\n",
       "      <td>22.000000</td>\n",
       "      <td>6.000000</td>\n",
       "      <td>5.000000</td>\n",
       "      <td>5.00000</td>\n",
       "      <td>2.000000</td>\n",
       "      <td>1.500000</td>\n",
       "      <td>90.000000</td>\n",
       "    </tr>\n",
       "    <tr>\n",
       "      <th>max</th>\n",
       "      <td>29.000000</td>\n",
       "      <td>12.000000</td>\n",
       "      <td>8.000000</td>\n",
       "      <td>6.00000</td>\n",
       "      <td>10.000000</td>\n",
       "      <td>7.000000</td>\n",
       "      <td>96.000000</td>\n",
       "    </tr>\n",
       "  </tbody>\n",
       "</table>\n",
       "</div>"
      ],
      "text/plain": [
       "       What is your age?  How many hours do you spend studying per day?   \n",
       "count          61.000000                                      62.000000  \\\n",
       "mean           21.327869                                       3.862903   \n",
       "std             2.087433                                       2.583316   \n",
       "min            18.000000                                       1.000000   \n",
       "25%            20.000000                                       2.000000   \n",
       "50%            21.000000                                       3.000000   \n",
       "75%            22.000000                                       6.000000   \n",
       "max            29.000000                                      12.000000   \n",
       "\n",
       "       What is overall duration of online classes per day? (provided by your college) (in Hours)   \n",
       "count                                          62.000000                                          \\\n",
       "mean                                            4.733871                                           \n",
       "std                                             1.363210                                           \n",
       "min                                             1.000000                                           \n",
       "25%                                             4.000000                                           \n",
       "50%                                             5.000000                                           \n",
       "75%                                             5.000000                                           \n",
       "max                                             8.000000                                           \n",
       "\n",
       "       What is your preferred time duration of online classes per day? (in Hours)   \n",
       "count                                           54.00000                           \\\n",
       "mean                                             3.87963                            \n",
       "std                                              1.39045                            \n",
       "min                                              0.00000                            \n",
       "25%                                              3.00000                            \n",
       "50%                                              4.00000                            \n",
       "75%                                              5.00000                            \n",
       "max                                              6.00000                            \n",
       "\n",
       "       How much data do you use on an average per day?  (in GB)   \n",
       "count                                          62.000000         \\\n",
       "mean                                            1.972581          \n",
       "std                                             1.670591          \n",
       "min                                             0.500000          \n",
       "25%                                             1.000000          \n",
       "50%                                             1.500000          \n",
       "75%                                             2.000000          \n",
       "max                                            10.000000          \n",
       "\n",
       "       How much data do you use for Online classes per day? (in GB)   \n",
       "count                                          62.000000             \\\n",
       "mean                                            1.237581              \n",
       "std                                             0.896426              \n",
       "min                                             0.100000              \n",
       "25%                                             1.000000              \n",
       "50%                                             1.000000              \n",
       "75%                                             1.500000              \n",
       "max                                             7.000000              \n",
       "\n",
       "       How much did you score in your exams? (in percentage)  \n",
       "count                                          55.000000      \n",
       "mean                                           84.103636      \n",
       "std                                             7.826237      \n",
       "min                                            68.000000      \n",
       "25%                                            80.000000      \n",
       "50%                                            85.000000      \n",
       "75%                                            90.000000      \n",
       "max                                            96.000000      "
      ]
     },
     "execution_count": 11,
     "metadata": {},
     "output_type": "execute_result"
    }
   ],
   "source": [
    "data.describe()\n",
    "# comparing median, max and min, there may be outliers in Age, tdu, doc and marks"
   ]
  },
  {
   "cell_type": "code",
   "execution_count": 12,
   "metadata": {},
   "outputs": [
    {
     "name": "stdout",
     "output_type": "stream",
     "text": [
      "<class 'pandas.core.frame.DataFrame'>\n",
      "RangeIndex: 62 entries, 0 to 61\n",
      "Data columns (total 34 columns):\n",
      " #   Column                                                                                             Non-Null Count  Dtype  \n",
      "---  ------                                                                                             --------------  -----  \n",
      " 0   Timestamp                                                                                          62 non-null     object \n",
      " 1   Username                                                                                           62 non-null     object \n",
      " 2   What gender do you identify as?                                                                    62 non-null     object \n",
      " 3   What is your age?                                                                                  61 non-null     float64\n",
      " 4   Name of the University/College you are studying:                                                   61 non-null     object \n",
      " 5   Course of Study                                                                                    62 non-null     object \n",
      " 6   Highest educational qualification (or now pursuing)                                                62 non-null     object \n",
      " 7   Your area of specialisation:                                                                       61 non-null     object \n",
      " 8   How many hours do you spend studying per day?                                                      62 non-null     float64\n",
      " 9   What is overall duration of online classes per day? (provided by your college) (in Hours)          62 non-null     float64\n",
      " 10  What is your preferred time duration of online classes per day? (in Hours)                         54 non-null     float64\n",
      " 11  How much data do you use on an average per day?  (in GB)                                           62 non-null     float64\n",
      " 12  How much data do you use for Online classes per day? (in GB)                                       62 non-null     float64\n",
      " 13  How is your internet speed?                                                                        62 non-null     object \n",
      " 14  The purpose of using your computer? (multiple options available)                                   61 non-null     object \n",
      " 15  For which do you use computer the most?                                                            60 non-null     object \n",
      " 16  Which device do you use for online classes.   (multiple options available)                         62 non-null     object \n",
      " 17  How would you prefer online classes?                                                               12 non-null     object \n",
      " 18  Have you achieved your expected academic outcome?                                                  60 non-null     object \n",
      " 19  How much did you score in your exams? (in percentage)                                              55 non-null     float64\n",
      " 20  Perception on Online Classes [Better than offline classes.]                                        62 non-null     object \n",
      " 21  Perception on Online Classes [Ease and quick share of educational material.]                       62 non-null     object \n",
      " 22  Perception on Online Classes [Access study resources effectively.]                                 62 non-null     object \n",
      " 23  Perception on Online Classes [Improved collaboration and interactivity among students.]            62 non-null     object \n",
      " 24  Perception on Online Classes [Better in understanding the concept .]                               62 non-null     object \n",
      " 25  Perception on Online Classes [Helped improving computer skills.]                                   62 non-null     object \n",
      " 26  Perception on Online Classes [Better platform for lab/practical classes.]                          62 non-null     object \n",
      " 27  Perception on Online Classes [Quick feedback.]                                                     62 non-null     object \n",
      " 28  Interest of participation in Online Classes [How actively do you participate in Online classes.]   61 non-null     object \n",
      " 29  Interest of participation in Online Classes [How often you get your teachers assistance.]          61 non-null     object \n",
      " 30  Interest of participation in Online Classes [How much do you use social media(including YouTube)]  61 non-null     object \n",
      " 31  Interest of participation in Online Classes [Get bored in class.]                                  61 non-null     object \n",
      " 32  Interest of participation in Online Classes [Cheat in exams]                                       61 non-null     object \n",
      " 33  Your opinion on online classes (optional)                                                          32 non-null     object \n",
      "dtypes: float64(7), object(27)\n",
      "memory usage: 16.6+ KB\n"
     ]
    }
   ],
   "source": [
    "data.info()\n",
    "# Data is processed through feature engineering techniques using bivariable analysis"
   ]
  },
  {
   "cell_type": "markdown",
   "metadata": {},
   "source": [
    "```\n",
    "ocd = Online class duration (H0)\n",
    "eocd = expected online class duration\n",
    "tdu = Total data usage\n",
    "ss = self study\n",
    "doc = Data online classes (H0)\n",
    "ac = Academic Outcome (H0)\n",
    "is = Internet speed (H0)\n",
    "<!--     (5 point likert scale data) to measure satisfaction-->\n",
    "buc = beter in understanding the concept (H0) \n",
    "<!--     (ordinal scale) to measure degree fo occurence-->\n",
    "poc = Participation in online classes (H0)\n",
    "ata = availability of teacher's assistance (H0)\n",
    "smu = social media usage (H0)\n",
    "bc = bored in class (H0) \n",
    "ce = chear in exams (H0) \n",
    "```\n",
    "    after testing different models:\n",
    "    buc variable has no impact on response variable\n",
    "    doc has many outliers and also not impacting the variable"
   ]
  },
  {
   "cell_type": "code",
   "execution_count": 6,
   "metadata": {},
   "outputs": [
    {
     "name": "stdout",
     "output_type": "stream",
     "text": [
      "Name of the University/College you are studying:\n",
      "PONDICHERRY UNIVERSITY                          48\n",
      "CIT                                              4\n",
      "PONDICHERRY ENGINEERING COLLEGE                  2\n",
      "Lovely Professional University                   1\n",
      "RAMIREDDY SUBBARAMIREDDY ENGINEERING COLLEGE     1\n",
      "J.N.N institute of engineering                   1\n",
      "Anna University                                  1\n",
      "Stanley medical college                          1\n",
      "VIT                                              1\n",
      "IIITA                                            1\n",
      "Name: count, dtype: int64\n"
     ]
    }
   ],
   "source": [
    "print(data[\"Name of the University/College you are studying:\"].value_counts())"
   ]
  },
  {
   "cell_type": "code",
   "execution_count": 7,
   "metadata": {
    "tags": []
   },
   "outputs": [],
   "source": [
    "data = data[data[\"Name of the University/College you are studying:\"] == \"PONDICHERRY UNIVERSITY\"]"
   ]
  },
  {
   "cell_type": "markdown",
   "metadata": {},
   "source": [
    "## Exploratory Data Analysis"
   ]
  },
  {
   "cell_type": "code",
   "execution_count": 8,
   "metadata": {},
   "outputs": [
    {
     "ename": "ValueError",
     "evalue": "could not convert string to float: '2021/10/18 9:14:29 PM GMT+5:30'",
     "output_type": "error",
     "traceback": [
      "\u001b[1;31m---------------------------------------------------------------------------\u001b[0m",
      "\u001b[1;31mValueError\u001b[0m                                Traceback (most recent call last)",
      "Cell \u001b[1;32mIn[8], line 2\u001b[0m\n\u001b[0;32m      1\u001b[0m plt\u001b[38;5;241m.\u001b[39mfigure(figsize\u001b[38;5;241m=\u001b[39m(\u001b[38;5;241m12\u001b[39m, \u001b[38;5;241m10\u001b[39m))\n\u001b[1;32m----> 2\u001b[0m sns\u001b[38;5;241m.\u001b[39mheatmap(data\u001b[38;5;241m=\u001b[39m\u001b[43mdata\u001b[49m\u001b[38;5;241;43m.\u001b[39;49m\u001b[43mcorr\u001b[49m\u001b[43m(\u001b[49m\u001b[43mmethod\u001b[49m\u001b[38;5;241;43m=\u001b[39;49m\u001b[38;5;124;43m'\u001b[39;49m\u001b[38;5;124;43mspearman\u001b[39;49m\u001b[38;5;124;43m'\u001b[39;49m\u001b[43m)\u001b[49m, annot\u001b[38;5;241m=\u001b[39m\u001b[38;5;28;01mTrue\u001b[39;00m, vmin\u001b[38;5;241m=\u001b[39m\u001b[38;5;241m-\u001b[39m\u001b[38;5;241m1\u001b[39m, cmap\u001b[38;5;241m=\u001b[39m\u001b[38;5;124m'\u001b[39m\u001b[38;5;124mwinter\u001b[39m\u001b[38;5;124m'\u001b[39m) \u001b[38;5;66;03m# spearman's rank correlation\u001b[39;00m\n\u001b[0;32m      3\u001b[0m \u001b[38;5;66;03m# ss, ocd, eocd, doc has cosiderable correlation\u001b[39;00m\n\u001b[0;32m      4\u001b[0m \u001b[38;5;66;03m# selected these variables and validating using exploratory data analysis considering ocd and eocd has significant correlation, colleniearity must be removed\u001b[39;00m\n",
      "File \u001b[1;32m~\\AppData\\Local\\Programs\\Python\\Python311\\Lib\\site-packages\\pandas\\core\\frame.py:10059\u001b[0m, in \u001b[0;36mDataFrame.corr\u001b[1;34m(self, method, min_periods, numeric_only)\u001b[0m\n\u001b[0;32m  10057\u001b[0m cols \u001b[38;5;241m=\u001b[39m data\u001b[38;5;241m.\u001b[39mcolumns\n\u001b[0;32m  10058\u001b[0m idx \u001b[38;5;241m=\u001b[39m cols\u001b[38;5;241m.\u001b[39mcopy()\n\u001b[1;32m> 10059\u001b[0m mat \u001b[38;5;241m=\u001b[39m \u001b[43mdata\u001b[49m\u001b[38;5;241;43m.\u001b[39;49m\u001b[43mto_numpy\u001b[49m\u001b[43m(\u001b[49m\u001b[43mdtype\u001b[49m\u001b[38;5;241;43m=\u001b[39;49m\u001b[38;5;28;43mfloat\u001b[39;49m\u001b[43m,\u001b[49m\u001b[43m \u001b[49m\u001b[43mna_value\u001b[49m\u001b[38;5;241;43m=\u001b[39;49m\u001b[43mnp\u001b[49m\u001b[38;5;241;43m.\u001b[39;49m\u001b[43mnan\u001b[49m\u001b[43m,\u001b[49m\u001b[43m \u001b[49m\u001b[43mcopy\u001b[49m\u001b[38;5;241;43m=\u001b[39;49m\u001b[38;5;28;43;01mFalse\u001b[39;49;00m\u001b[43m)\u001b[49m\n\u001b[0;32m  10061\u001b[0m \u001b[38;5;28;01mif\u001b[39;00m method \u001b[38;5;241m==\u001b[39m \u001b[38;5;124m\"\u001b[39m\u001b[38;5;124mpearson\u001b[39m\u001b[38;5;124m\"\u001b[39m:\n\u001b[0;32m  10062\u001b[0m     correl \u001b[38;5;241m=\u001b[39m libalgos\u001b[38;5;241m.\u001b[39mnancorr(mat, minp\u001b[38;5;241m=\u001b[39mmin_periods)\n",
      "File \u001b[1;32m~\\AppData\\Local\\Programs\\Python\\Python311\\Lib\\site-packages\\pandas\\core\\frame.py:1838\u001b[0m, in \u001b[0;36mDataFrame.to_numpy\u001b[1;34m(self, dtype, copy, na_value)\u001b[0m\n\u001b[0;32m   1836\u001b[0m \u001b[38;5;28;01mif\u001b[39;00m dtype \u001b[38;5;129;01mis\u001b[39;00m \u001b[38;5;129;01mnot\u001b[39;00m \u001b[38;5;28;01mNone\u001b[39;00m:\n\u001b[0;32m   1837\u001b[0m     dtype \u001b[38;5;241m=\u001b[39m np\u001b[38;5;241m.\u001b[39mdtype(dtype)\n\u001b[1;32m-> 1838\u001b[0m result \u001b[38;5;241m=\u001b[39m \u001b[38;5;28;43mself\u001b[39;49m\u001b[38;5;241;43m.\u001b[39;49m\u001b[43m_mgr\u001b[49m\u001b[38;5;241;43m.\u001b[39;49m\u001b[43mas_array\u001b[49m\u001b[43m(\u001b[49m\u001b[43mdtype\u001b[49m\u001b[38;5;241;43m=\u001b[39;49m\u001b[43mdtype\u001b[49m\u001b[43m,\u001b[49m\u001b[43m \u001b[49m\u001b[43mcopy\u001b[49m\u001b[38;5;241;43m=\u001b[39;49m\u001b[43mcopy\u001b[49m\u001b[43m,\u001b[49m\u001b[43m \u001b[49m\u001b[43mna_value\u001b[49m\u001b[38;5;241;43m=\u001b[39;49m\u001b[43mna_value\u001b[49m\u001b[43m)\u001b[49m\n\u001b[0;32m   1839\u001b[0m \u001b[38;5;28;01mif\u001b[39;00m result\u001b[38;5;241m.\u001b[39mdtype \u001b[38;5;129;01mis\u001b[39;00m \u001b[38;5;129;01mnot\u001b[39;00m dtype:\n\u001b[0;32m   1840\u001b[0m     result \u001b[38;5;241m=\u001b[39m np\u001b[38;5;241m.\u001b[39marray(result, dtype\u001b[38;5;241m=\u001b[39mdtype, copy\u001b[38;5;241m=\u001b[39m\u001b[38;5;28;01mFalse\u001b[39;00m)\n",
      "File \u001b[1;32m~\\AppData\\Local\\Programs\\Python\\Python311\\Lib\\site-packages\\pandas\\core\\internals\\managers.py:1732\u001b[0m, in \u001b[0;36mBlockManager.as_array\u001b[1;34m(self, dtype, copy, na_value)\u001b[0m\n\u001b[0;32m   1730\u001b[0m         arr\u001b[38;5;241m.\u001b[39mflags\u001b[38;5;241m.\u001b[39mwriteable \u001b[38;5;241m=\u001b[39m \u001b[38;5;28;01mFalse\u001b[39;00m\n\u001b[0;32m   1731\u001b[0m \u001b[38;5;28;01melse\u001b[39;00m:\n\u001b[1;32m-> 1732\u001b[0m     arr \u001b[38;5;241m=\u001b[39m \u001b[38;5;28;43mself\u001b[39;49m\u001b[38;5;241;43m.\u001b[39;49m\u001b[43m_interleave\u001b[49m\u001b[43m(\u001b[49m\u001b[43mdtype\u001b[49m\u001b[38;5;241;43m=\u001b[39;49m\u001b[43mdtype\u001b[49m\u001b[43m,\u001b[49m\u001b[43m \u001b[49m\u001b[43mna_value\u001b[49m\u001b[38;5;241;43m=\u001b[39;49m\u001b[43mna_value\u001b[49m\u001b[43m)\u001b[49m\n\u001b[0;32m   1733\u001b[0m     \u001b[38;5;66;03m# The underlying data was copied within _interleave, so no need\u001b[39;00m\n\u001b[0;32m   1734\u001b[0m     \u001b[38;5;66;03m# to further copy if copy=True or setting na_value\u001b[39;00m\n\u001b[0;32m   1736\u001b[0m \u001b[38;5;28;01mif\u001b[39;00m na_value \u001b[38;5;129;01mis\u001b[39;00m \u001b[38;5;129;01mnot\u001b[39;00m lib\u001b[38;5;241m.\u001b[39mno_default:\n",
      "File \u001b[1;32m~\\AppData\\Local\\Programs\\Python\\Python311\\Lib\\site-packages\\pandas\\core\\internals\\managers.py:1794\u001b[0m, in \u001b[0;36mBlockManager._interleave\u001b[1;34m(self, dtype, na_value)\u001b[0m\n\u001b[0;32m   1792\u001b[0m     \u001b[38;5;28;01melse\u001b[39;00m:\n\u001b[0;32m   1793\u001b[0m         arr \u001b[38;5;241m=\u001b[39m blk\u001b[38;5;241m.\u001b[39mget_values(dtype)\n\u001b[1;32m-> 1794\u001b[0m     \u001b[43mresult\u001b[49m\u001b[43m[\u001b[49m\u001b[43mrl\u001b[49m\u001b[38;5;241;43m.\u001b[39;49m\u001b[43mindexer\u001b[49m\u001b[43m]\u001b[49m \u001b[38;5;241m=\u001b[39m arr\n\u001b[0;32m   1795\u001b[0m     itemmask[rl\u001b[38;5;241m.\u001b[39mindexer] \u001b[38;5;241m=\u001b[39m \u001b[38;5;241m1\u001b[39m\n\u001b[0;32m   1797\u001b[0m \u001b[38;5;28;01mif\u001b[39;00m \u001b[38;5;129;01mnot\u001b[39;00m itemmask\u001b[38;5;241m.\u001b[39mall():\n",
      "\u001b[1;31mValueError\u001b[0m: could not convert string to float: '2021/10/18 9:14:29 PM GMT+5:30'"
     ]
    },
    {
     "data": {
      "text/plain": [
       "<Figure size 1200x1000 with 0 Axes>"
      ]
     },
     "metadata": {},
     "output_type": "display_data"
    }
   ],
   "source": [
    "plt.figure(figsize=(12, 10))\n",
    "sns.heatmap(data=data.corr(method='spearman'), annot=True, vmin=-1, cmap='winter') # spearman's rank correlation\n",
    "# ss, ocd, eocd, doc has cosiderable correlation\n",
    "# selected these variables and validating using exploratory data analysis considering ocd and eocd has significant correlation, colleniearity must be removed"
   ]
  },
  {
   "cell_type": "markdown",
   "metadata": {},
   "source": [
    "### EDA / Univariate\n",
    "To detect outliers or anomolies in the data to manipulate accordingly by comparing using bivariate data analysis"
   ]
  },
  {
   "cell_type": "code",
   "execution_count": null,
   "metadata": {},
   "outputs": [],
   "source": [
    "plt.figure(figsize=(10, 10))\n",
    "data['Age'].plot()\n",
    "#Age predictor has consistent line graph with possible outliers at age of 27-30 \n",
    "#(because of less data available from phd students)"
   ]
  },
  {
   "cell_type": "code",
   "execution_count": null,
   "metadata": {},
   "outputs": [],
   "source": [
    "plt.figure(figsize=(10, 10))\n",
    "data.ss.plot()\n",
    "# consistent graph with no possible outliers\n",
    "# possible for right skewed distribution"
   ]
  },
  {
   "cell_type": "code",
   "execution_count": null,
   "metadata": {},
   "outputs": [],
   "source": [
    "plt.figure(figsize=(10, 10))\n",
    "sns.histplot(data=data,binwidth=0.9, x='ss')"
   ]
  },
  {
   "cell_type": "code",
   "execution_count": null,
   "metadata": {},
   "outputs": [],
   "source": [
    "plt.figure(figsize=(10, 10))\n",
    "data.ocd.plot()\n",
    "# cosistent graph with possible outliers at 1 or consistent"
   ]
  },
  {
   "cell_type": "code",
   "execution_count": null,
   "metadata": {},
   "outputs": [],
   "source": [
    "plt.figure(figsize=(10, 10))\n",
    "sns.histplot(data=data, x= 'ocd', binwidth=1)\n",
    "# left skewed"
   ]
  },
  {
   "cell_type": "code",
   "execution_count": null,
   "metadata": {},
   "outputs": [],
   "source": [
    "plt.figure(figsize=(10, 10))\n",
    "data.eocd.plot()\n",
    "# cosistent graph, possible outliers at 0"
   ]
  },
  {
   "cell_type": "code",
   "execution_count": null,
   "metadata": {},
   "outputs": [],
   "source": [
    "plt.figure(figsize=(10, 10))\n",
    "sns.histplot(data=data, x='eocd', binwidth=0.9, kde=True)\n",
    "# possibly left skewed with most of the dist. in right part of the dist."
   ]
  },
  {
   "cell_type": "code",
   "execution_count": null,
   "metadata": {},
   "outputs": [],
   "source": [
    "plt.figure(figsize=(10, 10))\n",
    "data.tdu.plot()\n",
    "# outlier at 6 and possibly right skewed"
   ]
  },
  {
   "cell_type": "code",
   "execution_count": null,
   "metadata": {},
   "outputs": [],
   "source": [
    "plt.figure(figsize=(10, 10))\n",
    "sns.histplot(data=data, x='tdu', binwidth=1)\n",
    "# right skewed with ouliers on right end of dist."
   ]
  },
  {
   "cell_type": "code",
   "execution_count": null,
   "metadata": {},
   "outputs": [],
   "source": [
    "plt.figure(figsize=(10, 10))\n",
    "data.doc.plot()\n",
    "# possible outliers at 0 and 3 and possible to be right skewed"
   ]
  },
  {
   "cell_type": "code",
   "execution_count": null,
   "metadata": {},
   "outputs": [],
   "source": [
    "plt.figure(figsize=(10, 10))\n",
    "sns.histplot(data=data, x='doc', binwidth=0.5)"
   ]
  },
  {
   "cell_type": "code",
   "execution_count": null,
   "metadata": {},
   "outputs": [],
   "source": [
    "plt.figure(figsize=(12, 10))\n",
    "data.drop('Marks', axis=1).boxplot(grid = False)\n",
    "plt.xticks(size=11);\n",
    "plt.yticks(size=13);\n",
    "plt.xlabel('Predictor variables')\n",
    "plt.title('Box plot for outlier analysis', size=20)\n",
    "# Inter quartile range "
   ]
  },
  {
   "cell_type": "code",
   "execution_count": null,
   "metadata": {},
   "outputs": [],
   "source": [
    "plt.figure(figsize=(12, 10))\n",
    "data.drop(['Age', 'ss', 'eocd', 'tdu', 'Marks'], axis=1).boxplot(grid = False)\n",
    "plt.xticks(size=13);\n",
    "plt.yticks(size=13);\n",
    "# plt.xlabel('Predictor variables')\n",
    "# plt.title('Box plot for outlier analysis', size=20)\n",
    "# Inter quartile range "
   ]
  },
  {
   "cell_type": "markdown",
   "metadata": {},
   "source": [
    "### EDA / Bivariate data analysis\n",
    "Compare the response variable with avialable ordianal variables to hypothesise the impact and to select the variable for predicting the response variable."
   ]
  },
  {
   "cell_type": "code",
   "execution_count": null,
   "metadata": {},
   "outputs": [],
   "source": [
    "plt.figure(figsize=(10, 10))\n",
    "sns.histplot(x=data['Marks'], hue=data['Gender'], multiple='stack', binwidth=5)\n",
    "# Gender ordinal variable has no significan factoring impact on the response variable\n",
    "# variable not selected"
   ]
  },
  {
   "cell_type": "code",
   "execution_count": null,
   "metadata": {},
   "outputs": [],
   "source": [
    "plt.figure(figsize=(10, 10))\n",
    "sns.histplot(data=data, x = 'Marks', bins=10, hue= 'Education', multiple='stack');\n",
    "# Due to less avialability of data from phd students and no significant difference in impacting the response variable\n",
    "# variable no selected # undecided\n",
    "# testing models, pg students has less marks and compared to other grads, even though its not significant, it helped incressing 2% more accuracy"
   ]
  },
  {
   "cell_type": "code",
   "execution_count": null,
   "metadata": {},
   "outputs": [],
   "source": [
    "plt.figure(figsize=(10, 10))\n",
    "sns.histplot(data=data, x='Marks', hue='ic', multiple='stack');\n",
    "# plt.legend( fontsize='x-large', title = \"Internet speed\", loc='upper left')\n",
    "# Internet speed variable has impact on the response variable, people with the best and good internet connection are more likely to get good marks and agrees online classes are better\n",
    "# variable selected"
   ]
  },
  {
   "cell_type": "code",
   "execution_count": null,
   "metadata": {},
   "outputs": [],
   "source": [
    "plt.figure(figsize=(10, 10))\n",
    "sns.histplot(data=data, x='Marks', hue='ac', multiple='stack', hue_order=['Yes', 'No'])\n",
    "# Academic outcome has a significant impact on the response variable\n",
    "# variable selected\n",
    "# Gender.to_csv('stack.csv')"
   ]
  },
  {
   "cell_type": "code",
   "execution_count": null,
   "metadata": {},
   "outputs": [],
   "source": [
    "Gender=pd.crosstab(data['Marks'], data['buc'])\n",
    "# Gender.to_csv('test.csv')\n",
    "# Gender.div(Gender.sum(1).astype(float), axis=0).plot(kind='bar',stacked=True,figsize=(10,10))\n",
    "# plt.title('Gender vs Loan Status')\n",
    "temp = pd.read_csv('test.csv', index_col='Marks')\n",
    "temp.div(temp.sum(1).astype(float), axis=0).plot(kind='bar',stacked=True,figsize=(10,10))\n",
    "plt.legend(title='buc')"
   ]
  },
  {
   "cell_type": "code",
   "execution_count": null,
   "metadata": {},
   "outputs": [],
   "source": [
    "plt.figure(figsize=(10, 10))\n",
    "sns.histplot(data=data, x='Marks', hue='buc', multiple='stack')\n",
    "# even though there is no significant difference of impact, most of the student with above 80 marks has agreed that online lernign is better that offline learning\n",
    "# variable selected"
   ]
  },
  {
   "cell_type": "code",
   "execution_count": null,
   "metadata": {},
   "outputs": [],
   "source": [
    "plt.figure(figsize=(10, 10))\n",
    "sns.histplot(data=data, x='Marks', hue='poc', multiple='stack');\n",
    "# no impact on response variable\n",
    "# variable not selected"
   ]
  },
  {
   "cell_type": "code",
   "execution_count": null,
   "metadata": {},
   "outputs": [],
   "source": [
    "plt.figure(figsize=(10, 10))\n",
    "sns.histplot(data=data, x='Marks', hue='ata', multiple='stack')\n",
    "# The higher the marks the most people agreed they are getting teachers assistance\n",
    "# Even though there is no significant impact, the diffecrence in acceptence in good marks region can impact the response variable moderately\n",
    "# variable selected"
   ]
  },
  {
   "cell_type": "code",
   "execution_count": null,
   "metadata": {},
   "outputs": [],
   "source": [
    "plt.figure(figsize=(10, 10))\n",
    "sns.histplot(data=data, x='Marks', hue='smu', multiple='stack')\n",
    "# some people of above 75 marks has not uses socail media\n",
    "# variable selected"
   ]
  },
  {
   "cell_type": "code",
   "execution_count": null,
   "metadata": {},
   "outputs": [],
   "source": [
    "plt.figure(figsize=(10, 10))\n",
    "sns.histplot(data=data, x='Marks', hue= 'bc', multiple='stack')\n",
    "# some people above 75 have never got bored in online classes\n",
    "# varible selected"
   ]
  },
  {
   "cell_type": "code",
   "execution_count": null,
   "metadata": {},
   "outputs": [],
   "source": [
    "plt.figure(figsize=(10, 10))\n",
    "sns.histplot(data=data, x='Marks', hue='ce', multiple='stack')\n",
    "# some students with more than 75 marks says, they never cheated in exams"
   ]
  },
  {
   "cell_type": "markdown",
   "metadata": {},
   "source": [
    "## Feature Engineering"
   ]
  },
  {
   "cell_type": "markdown",
   "metadata": {},
   "source": [
    "    # Missing values and alomolies were alredy processed and manipulated sucessfully"
   ]
  },
  {
   "cell_type": "markdown",
   "metadata": {},
   "source": [
    "# MLR model and Variable selection(stepwise method)"
   ]
  },
  {
   "cell_type": "markdown",
   "metadata": {},
   "source": [
    "The numeric variables are selected using forward variable selection method, and the categorical variables are removed after building the model with all the categorical variables available. The ordinal scale variabels are removed based on the significance values from the summary table, AIC, BIC and adjusted R squared values."
   ]
  },
  {
   "cell_type": "code",
   "execution_count": null,
   "metadata": {},
   "outputs": [],
   "source": [
    "temp = ols('Marks ~ Gender + Age + Education + ss + ocd + eocd + tdu + doc + ic + ac + buc + poc + ata + smu+ bc + ce', data);\n",
    "model1= temp.fit()\n",
    "print(model1.params)\n",
    "# 16 predictor variables"
   ]
  },
  {
   "cell_type": "code",
   "execution_count": null,
   "metadata": {},
   "outputs": [],
   "source": [
    "model1.summary2()"
   ]
  },
  {
   "cell_type": "code",
   "execution_count": null,
   "metadata": {},
   "outputs": [],
   "source": [
    "temp = ols('Marks ~ Gender + Age + Education + ss + ocd + doc + ic + ac + buc + poc + ata + smu+ bc + ce', data);\n",
    "model2= temp.fit()\n",
    "print(model2.params)\n",
    "# ocd and tdu variables have hign correlation with eocd, which may cause overfit of model\n",
    "# but ocd has higher significance than other two variables also eocd and tdu has cofficients near to 0\n",
    "# eocd and tdu variables are removed\n",
    "# no change in accuracy"
   ]
  },
  {
   "cell_type": "code",
   "execution_count": null,
   "metadata": {},
   "outputs": [],
   "source": [
    "model2.summary2()"
   ]
  },
  {
   "cell_type": "code",
   "execution_count": null,
   "metadata": {},
   "outputs": [],
   "source": [
    "temp = ols('Marks ~ Education + Age + Gender + ss + poc + ocd + ic + ac + buc + ata + smu+ bc + ce', data);\n",
    "model3= temp.fit()\n",
    "print(model3.params)\n",
    "# doc variable has less significance\n",
    "# varaible doc removed"
   ]
  },
  {
   "cell_type": "code",
   "execution_count": null,
   "metadata": {},
   "outputs": [],
   "source": [
    "model3.summary2()"
   ]
  },
  {
   "cell_type": "code",
   "execution_count": null,
   "metadata": {},
   "outputs": [],
   "source": [
    "temp = ols('Marks ~ Education + ss + ocd + ic + ac + buc + ata + smu+ bc + ce', data);\n",
    "model4= temp.fit()\n",
    "print(model4.params)\n",
    "# poc, Age, and Gender variables are removed since not significant\n",
    "# AIC value after including Age variable has a difference less than 2, but no significant change in accuracy, variable removed to decrease predictor variables."
   ]
  },
  {
   "cell_type": "code",
   "execution_count": null,
   "metadata": {},
   "outputs": [],
   "source": [
    "model4.summary2()"
   ]
  },
  {
   "cell_type": "code",
   "execution_count": null,
   "metadata": {},
   "outputs": [],
   "source": [
    "temp = ols('Marks ~ Education + ss + ocd + ic + ac', data);\n",
    "model5= temp.fit();\n",
    "print(model5.params);\n",
    "# bc, buc, smu, ata, and ce"
   ]
  },
  {
   "cell_type": "code",
   "execution_count": null,
   "metadata": {},
   "outputs": [],
   "source": [
    "model5.summary2()"
   ]
  },
  {
   "cell_type": "code",
   "execution_count": null,
   "metadata": {},
   "outputs": [],
   "source": [
    "model5.predict({'Education': 'ug', 'ss': 4, 'ocd': 3, 'ic': 'g', 'ac': 'No'})"
   ]
  },
  {
   "cell_type": "code",
   "execution_count": null,
   "metadata": {},
   "outputs": [],
   "source": [
    "def evaluateModel(model):\n",
    "    print(\"RSS = \", ((data.Marks - model.predict())**2).sum())\n",
    "    print(\"R2 = \", model.rsquared)"
   ]
  },
  {
   "cell_type": "code",
   "execution_count": null,
   "metadata": {},
   "outputs": [],
   "source": [
    "evaluateModel(model5);\n",
    "# our model is 81.2% accurate"
   ]
  },
  {
   "cell_type": "code",
   "execution_count": null,
   "metadata": {
    "scrolled": true
   },
   "outputs": [],
   "source": [
    "y, X = dmatrices('Marks ~ Education + ss + ocd + ic + ac', data, return_type='dataframe')\n",
    "\n",
    "vif = pd.DataFrame()\n",
    "vif[\"Feature\"] = X.columns\n",
    "vif[\"VIF Factor\"] = [variance_inflation_factor(X.values, i) for i in range(X.shape[1])]\n",
    "print(\"       VARIANCE INFLATION FACTOR\")\n",
    "print('=======================================')\n",
    "print(vif)"
   ]
  }
 ],
 "metadata": {
  "interpreter": {
   "hash": "31f2aee4e71d21fbe5cf8b01ff0e069b9275f58929596ceb00d14d90e3e16cd6"
  },
  "kernelspec": {
   "display_name": "Python 3 (ipykernel)",
   "language": "python",
   "name": "python3"
  },
  "language_info": {
   "codemirror_mode": {
    "name": "ipython",
    "version": 3
   },
   "file_extension": ".py",
   "mimetype": "text/x-python",
   "name": "python",
   "nbconvert_exporter": "python",
   "pygments_lexer": "ipython3",
   "version": "3.11.3"
  }
 },
 "nbformat": 4,
 "nbformat_minor": 4
}
